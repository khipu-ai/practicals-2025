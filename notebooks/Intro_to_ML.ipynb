{
  "cells": [
    {
      "cell_type": "markdown",
      "source": [
        "# **Introduction to ML [using JAX]**\n"
      ],
      "metadata": {
        "id": "4t1Eik6q4BO4"
      }
    },
    {
      "cell_type": "markdown",
      "metadata": {
        "id": "m2s4kN_QPQVe"
      },
      "source": [
        "<a href=\"https://colab.research.google.com/github/khipu-ai/practicals-2025/blob/main/notebooks/Intro_to_ML.ipynb\" target=\"_parent\"><img src=\"https://colab.research.google.com/assets/colab-badge.svg\" alt=\"Open In Colab\"/></a>\n",
        "\n",
        "© Deep Learning Indaba 2024, Khipu 2025. Apache License 2.0.\n",
        "\n",
        "\n",
        "**Khipu Authors:** José Lezama\n",
        "\n",
        "**Khipu Reviewers:** Anian Ruoss\n",
        "\n",
        "**Indaba Authors:** Kale-ab Tessera, Geraud Nangue Tasse, Oluwabamigbe Oni\n",
        "\n",
        "**Indaba Reviewers:** Doudou BA, Omayma Mahjoub, Elizabeth Ondula, Leonard Hinckeldey\n",
        "\n",
        "**Introduction:**\n",
        "\n",
        "In this tutorial, we will learn about some of the high-level concepts behind machine learning (ML) and the basics of JAX, a numerical computing library that we will use for our practicals. Finally, we will learn about the fundamentals of supervised learning, from linear regression, all the way to neural networks, learning the fundamentals of optimisation along the way.\n",
        "\n",
        "**Topics:**\n",
        "\n",
        "Content: <font color='green'>`Numerical Computing`</font> , <font color='orange'>`Supervised Learning`</font>  \n",
        "Level: <font color='grey'>`Beginner`</font>\n",
        "\n",
        "\n",
        "**Aims/Learning Objectives:**\n",
        "\n",
        "- Learn high-level concepts in ML - data, models and learning.\n",
        "- Get a high-level overview of modern ML terminology.   \n",
        "- Learn the basics of JAX and how to use it.\n",
        "- Learn about linear regression and neural networks, and how to implement them in JAX.\n",
        "\n",
        "**Prerequisites:**\n",
        "\n",
        "- Basic knowledge of [NumPy](https://github.com/numpy/numpy).\n",
        "- Basic knowledge of [functional programming](https://en.wikipedia.org/wiki/Functional_programming).\n",
        "\n",
        "\n"
      ]
    },
    {
      "cell_type": "markdown",
      "metadata": {
        "id": "JUkgZDoYOGwb"
      },
      "source": [
        "# **Part 1 - What is Machine Learning?** 🤔 - 20 minutes ⏰"
      ]
    },
    {
      "cell_type": "markdown",
      "metadata": {
        "id": "yaHrq0ovOGwf"
      },
      "source": [
        "### 🤔 What Exactly *Is* Machine Learning?\n",
        "\n",
        "**Machine learning (ML)** is about creating algorithms that learn patterns from data to make predictions or decisions.  Instead of writing explicit rules, we let the computer figure out the rules itself by showing it examples. It's like teaching a child by showing them, not by writing down a detailed rulebook!\n",
        "\n",
        "Think of it like this:  **ML is programming computers to learn from data.**\n",
        "\n",
        "There are three key ingredients in any ML problem:"
      ]
    },
    {
      "cell_type": "markdown",
      "metadata": {
        "id": "iqavot5oOGwf"
      },
      "source": [
        "## 🔑 **The Three Key Ingredients of Machine Learning**\n",
        "\n",
        "Every machine learning task, no matter how complex, boils down to these three components:\n",
        "\n",
        "1.  **📊 Data:** The examples we use to teach the computer.  This could be images, text, numbers, audio – anything we can represent digitally.\n",
        "2.  **🧠 Models:**  The computer's \"brain\" – a function that takes in data and makes predictions. Models have adjustable **parameters** (like knobs) that we tune to make them better at the task.\n",
        "3.  **🎓 Learning:** The process of tuning the model's parameters to improve its predictions. We use algorithms to adjust the parameters based on how well the model is doing on the data."
      ]
    },
    {
      "cell_type": "markdown",
      "metadata": {
        "id": "Gsvn6IZHOGwf"
      },
      "source": [
        "### 1.1 📊 Data: The Fuel for Learning\n",
        "\n",
        "Machine learning models are hungry for data!  Data comes in many forms, and for computers to understand it, we need to represent it numerically.  Think of data as numbers in lists (**vectors**) or tables (**matrices**).\n",
        "\n",
        "**Example: Images as Numbers**\n",
        "\n",
        "An image can be represented as a grid of numbers, where each number represents the color or brightness of a pixel. For grayscale images like handwritten digits:\n",
        "\n",
        "*   0 = Black\n",
        "*   255 = White\n",
        "*   Numbers in between = Shades of gray\n",
        "\n",
        "**Inputs (Features) and Labels (Targets):**\n",
        "\n",
        "In **supervised learning** (the type we'll focus on), we use *labeled* data. This means each piece of data has two parts:\n",
        "\n",
        "1.  **Input (Features) - `x`**: The information we feed into the model to make a prediction (e.g., the pixel values of a digit image).\n",
        "2.  **Label (Target) - `y`**: The correct answer or outcome we want the model to predict (e.g., the actual digit 7).\n",
        "\n",
        "Each input-label pair is called a **sample**, and a collection of samples is a **dataset**."
      ]
    },
    {
      "cell_type": "markdown",
      "metadata": {
        "id": "_7ZR55cNOGwg"
      },
      "source": [
        "Let's visualize a sample from a classic digit dataset to see how images are represented as numbers:"
      ]
    },
    {
      "cell_type": "code",
      "metadata": {
        "id": "U9QhOwWvOGwg"
      },
      "source": [
        "## Hide code.\n",
        "# @title  Visualize a digit image and its pixel values (Run this cell)\n",
        "\n",
        "import numpy as np\n",
        "import matplotlib.pyplot as plt\n",
        "from sklearn.datasets import fetch_openml\n",
        "\n",
        "# Load MNIST dataset (if not already loaded)\n",
        "print(\"Loading MNIST dataset...\")\n",
        "X, y = fetch_openml('mnist_784', version=1, return_X_y=True, as_frame=False, data_home=\"~/scikit_learn_data\")\n",
        "\n",
        "X = np.array(X).astype(float) # Convert to NumPy array\n",
        "y = np.array(y).astype(int)   # Ensure labels are integers\n",
        "\n",
        "print(f\"\\nDataset shape (examples, features): {X.shape}\")\n",
        "print(f\"Number of examples: {X.shape[0]}\")\n",
        "print(f\"Number of features per image: {X.shape[1]} (28*28 pixels)\")\n",
        "print(f\"Example labels: {np.unique(y)}\")\n",
        "\n",
        "example_index = 0 # Let's look at the first image\n",
        "example_image = X[example_index].reshape(28, 28) # Reshape flattened vector to 28x28 image\n",
        "example_label = y[example_index]\n",
        "\n",
        "fig, (ax1, ax2) = plt.subplots(1, 2, figsize=(12, 6))\n",
        "\n",
        "# Display raw pixel values as an image\n",
        "ax1.imshow(example_image, cmap='gray')\n",
        "ax1.set_title(\"Pixel Values (Raw Data)\")\n",
        "for i in range(28):\n",
        "    for j in range(28):\n",
        "        ax1.text(j, i, f'{int(example_image[i, j])}', ha='center', va='center', color='red', fontsize=6) # Show pixel values\n",
        "ax1.set_xlabel(\"Width: 28 pixels\")\n",
        "ax1.set_ylabel(\"Height: 28 pixels\")\n",
        "\n",
        "# Display the image with a title\n",
        "ax2.imshow(example_image, cmap='gray')\n",
        "ax2.set_title(f\"Handwritten Digit (Label: {example_label})\")\n",
        "ax2.axis('off') # Hide axes ticks and labels\n",
        "\n",
        "plt.tight_layout()\n",
        "plt.show()"
      ],
      "execution_count": null,
      "outputs": []
    },
    {
      "cell_type": "markdown",
      "metadata": {
        "id": "n6WXXeQ2OGwg"
      },
      "source": [
        "**Splitting Data: Training and Testing**\n",
        "\n",
        "To properly train and evaluate ML models, we split our dataset into two key parts:\n",
        "\n",
        "1.  **Training Set (80%):**  Used to *train* the ML model (the computer learns from this data).\n",
        "2.  **Testing Set (20%):**  Used to *evaluate* how well the trained model performs on *new, unseen* data. This tells us if the model has learned to generalize or just memorized the training data.\n",
        "\n",
        "Let's split our MNIST data:"
      ]
    },
    {
      "cell_type": "code",
      "metadata": {
        "id": "2tPRzBusOGwg"
      },
      "source": [
        "# Split data into training and testing sets\n",
        "from sklearn.model_selection import train_test_split\n",
        "\n",
        "X_train, X_test, y_train, y_test = train_test_split(X, y, test_size=0.2, random_state=42) # 80/20 split\n",
        "\n",
        "print(\"\\nDataset split:\")\n",
        "print(f\"Training set shape: {X_train.shape}\")\n",
        "print(f\"Testing set shape:  {X_test.shape}\")"
      ],
      "execution_count": null,
      "outputs": []
    },
    {
      "cell_type": "markdown",
      "metadata": {
        "id": "AP8D1P69OGwg"
      },
      "source": [
        "**Data Quality Matters!**\n",
        "\n",
        "Keep in mind that the quality and size of your data are crucial for good ML models. Noisy, incomplete, or biased data can lead to poor performance.  More data often helps models learn better patterns!"
      ]
    },
    {
      "cell_type": "markdown",
      "metadata": {
        "id": "Ag7TxAT7OGwg"
      },
      "source": [
        "## 1.2 🧠 Models: The \"Brain\" of ML\n",
        "\n",
        "Models are the core of machine learning.  A **model** is essentially a function, \\(f(x)\\), that takes input data \\(x\\) and transforms it into a useful output, the prediction \\(y\\).\n",
        "\n",
        "For digit recognition:\n",
        "\n",
        "*   **Input (x):** Image of a digit\n",
        "*   **Model (f):**  The ML algorithm (e.g., a Neural Network)\n",
        "*   **Output (y):** Predicted digit (0, 1, 2, ..., 9)\n",
        "\n",
        "Models have **parameters** ($\\theta$) – adjustable values that control how the model behaves.  Learning is all about finding the best parameters!"
      ]
    },
    {
      "cell_type": "markdown",
      "metadata": {
        "id": "NR1iuZpXOGwg"
      },
      "source": [
        "## 1.3 🎓 Learning: Tuning the Model's Knobs\n",
        "\n",
        "**Learning** is the process of finding the best parameters ($\\theta$) for our model so it makes accurate predictions. We do this by:\n",
        "\n",
        "1.  **Defining a Loss Function:**  A **loss function**, \\(L\\), measures how \"wrong\" our model's predictions are compared to the true labels. It quantifies the error.\n",
        "2.  **Using a Learning Algorithm:**  A **learning algorithm** (like Gradient Descent) adjusts the model's parameters to *minimize* the loss function. Think of it as tuning knobs to reduce the error signal.\n",
        "\n",
        "**Analogy: Tuning a Radio**\n",
        "\n",
        "Imagine tuning a radio to get a clear signal:\n",
        "\n",
        "*   **Data:** The radio waves carrying the music signal.\n",
        "*   **Model:** The radio receiver (circuitry with adjustable knobs).\n",
        "*   **Parameters:** The tuning knobs on the radio.\n",
        "*   **Loss Function:** The static noise you hear (we want to minimize noise).\n",
        "*   **Learning Algorithm:** Your hand turning the tuning knob to find the clearest signal (minimize the static/loss).\n",
        "\n",
        "**Generalization: Learning to Predict the Unknown**\n",
        "\n",
        "The ultimate goal is **generalization** – for our model to make accurate predictions on *new, unseen data*, not just the data it was trained on. We'll discuss this more later!"
      ]
    },
    {
      "cell_type": "markdown",
      "metadata": {
        "id": "LdabHvzCOGwg"
      },
      "source": [
        "**Exercise 1.2:**  Machine Learning's Core Idea - Which one is it?\n",
        "\n",
        "*(Discuss with your neighbor!)*\n",
        "\n",
        "**a)** Writing complex algorithms to solve specific problems.\n",
        "\n",
        "**b)** Manually programming rules for every possible scenario.\n",
        "\n",
        "**c)** Allowing computers to learn from data without being explicitly programmed.\n",
        "\n",
        "**d)** Developing AI that can mimic human thought processes."
      ]
    },
    {
      "cell_type": "code",
      "metadata": {
        "cellView": "form",
        "id": "OKn6ervhOGwg"
      },
      "source": [
        "selection = \"a\"  # @param [\"a\", \"b\", \"c\", \"d\"]\n",
        "print(f\"You selected: {selection}\")\n",
        "\n",
        "correct_answer = \"c\"\n",
        "if selection != correct_answer:\n",
        "  print(\"Incorrect answer, the correct answer is C. ML is about computers learning from data, not manual programming!\")\n",
        "else:\n",
        "  print(\"Correct! 🎉 Machine learning is all about learning from data.\")"
      ],
      "execution_count": null,
      "outputs": []
    },
    {
      "cell_type": "markdown",
      "metadata": {
        "id": "Y71M5dCdEn9z"
      },
      "source": [
        "## **1.4 Types of machine learning problems**\n",
        "\n",
        "ML is a broad field! Let's quickly look at the main types of ML problems:\n",
        "\n",
        "![Image could not load](data:image/png;base64,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)\n",
        "\n",
        "[Image Source](https://www.researchgate.net/publication/354960266/figure/fig1/AS:1075175843983363@1633353305883/The-main-types-of-machine-learning-Main-approaches-include-classification-and.png).\n",
        "\n",
        "**Supervised Learning:** *In supervised learning, the algorithm is trained on a labelled dataset, where each input data point is paired with the correct output (label).* The goal is to learn a mapping from inputs to outputs based on the training data. Once trained, the model can make accurate predictions on new, unseen data. This approach is commonly used for tasks like classification and regression, where the correct answers are known during training.\n",
        "\n",
        "**Unsupervised Learning:** *In unsupervised learning, the algorithm works with an unlabeled dataset, meaning the data has no predefined labels or outcomes.* The objective is to model the data distribution or discover patterns, structures, or relationships within the data. This might involve grouping similar data points (clustering) or reducing the dimensionality of the data to uncover hidden patterns. Unsupervised learning is often used in exploratory data analysis and for finding natural groupings in data.\n",
        "\n",
        "**Reinforcement Learning:** *In reinforcement learning, the algorithm learns to make decisions by interacting with an environment.* The learner, known as the *agent*, takes actions and receives feedback in the form of rewards or penalties. The goal is to learn a strategy, or *policy*, that maximizes the cumulative reward over time. Reinforcement learning is commonly applied in areas like robotics, game playing, and autonomous systems, where an agent must learn to navigate complex environments."
      ]
    },
    {
      "cell_type": "markdown",
      "metadata": {
        "id": "eng1ydpeOGwg"
      },
      "source": [
        "**1. Supervised Learning:**\n",
        "*   **Labeled Data:** We have input data (`x`) and corresponding correct outputs (`y`).\n",
        "*   **Goal:** Learn a mapping from `x` to `y`.\n",
        "*   **Examples:**\n",
        "    *   **Classification:** Predicting categories (e.g., cat vs. dog, digit recognition).\n",
        "    *   **Regression:** Predicting continuous values (e.g., house prices, weather forecasting).\n",
        "\n",
        "**2. Unsupervised Learning:**\n",
        "*   **Unlabeled Data:** We only have input data (`x`) without labels.\n",
        "*   **Goal:** Find patterns, structure, or groupings within the data.\n",
        "*   **Examples:**\n",
        "    *   **Clustering:** Grouping similar movie reviews together.\n",
        "    *   **Dimensionality Reduction:** Discovering hidden patterns in data.\n",
        "\n",
        "**3. Reinforcement Learning:**\n",
        "*   **Interactive Learning:** An agent learns by interacting with an environment.\n",
        "*   **Feedback:** Agent receives rewards or penalties for its actions.\n",
        "*   **Goal:** Learn a policy (strategy) to maximize cumulative rewards.\n",
        "*   **Examples:**\n",
        "    *   **Robotics:** Teaching a robot to walk.\n",
        "    *   **Game Playing:** Training a computer to play chess or video games."
      ]
    },
    {
      "cell_type": "markdown",
      "metadata": {
        "id": "lRPhlpoKOGwg"
      },
      "source": [
        "**Exercise 1.3:** Classify these ML tasks. Discuss with your neighbors.\n",
        "\n",
        "  - Teaching a robot how to walk.\n",
        "  - Weather prediction.\n",
        "  - Spam email classification.\n",
        "  - Teach a computer how to play chess.\n",
        "  - Grouping together different kinds of movie reviews."
      ]
    },
    {
      "cell_type": "code",
      "metadata": {
        "cellView": "form",
        "id": "iR2L9pVKOGwh"
      },
      "execution_count": null,
      "outputs": [],
      "source": [
        "# @title Solution - Exercise 1.3 (Click to expand)\n",
        "print(\"Teaching a robot how to walk: Reinforcement Learning\")\n",
        "print(\"Weather prediction: Supervised Learning (Regression)\")\n",
        "print(\"Spam email classification: Supervised Learning (Classification)\")\n",
        "print(\"Teach a computer how to play chess: Reinforcement Learning\")\n",
        "print(\"Grouping movie reviews: Unsupervised Learning (Clustering)\")"
      ]
    },
    {
      "cell_type": "markdown",
      "metadata": {
        "id": "oD2kzaOLOGwh"
      },
      "source": [
        "## 1.5 🚀 Modern ML Buzzwords (Briefly!)\n",
        "\n",
        "ML is a fast-moving field! Here are a few modern terms you might hear:\n",
        "\n",
        "<details>\n",
        "  <summary>Click to Expand: Modern ML Terminology</summary>\n",
        "  \n",
        "  *   **Deep Learning:** Machine learning with deep **neural networks** (models with many layers). Great for complex data like images and text. We'll explore these soon!\n",
        "  *   **Self-Supervised Learning:**  Learning from *unlabeled* data by creating your own labels!  For example, predict a missing part of an image or the next word in a sentence. Very useful when labeled data is scarce.\n",
        "  *   **Generative Models:** Models that learn to *generate* new data, like images, text, or music. Examples include:\n",
        "      *   **Large Language Models (LLMs):** (GPT-3, etc.) - Generate human-quality text. Powered by **Transformers** and **Autoregressive Models** (predicting the next word).\n",
        "      *   **Diffusion Models:** (DALL-E, Imagen) - Generate stunningly realistic images by learning to reverse a noising process.\n",
        "  \n",
        "  Don't worry if these terms are new to you now – you'll encounter them as you continue your ML journey!</details>"
      ]
    },
    {
      "cell_type": "markdown",
      "metadata": {
        "id": "1ZaA2DTXOGwh"
      },
      "source": [
        "# 🎉 Congrats! You've completed Part 1! 🎉\n",
        "\n",
        "You now have a high-level understanding of:\n",
        "\n",
        "*   What Machine Learning is and why it's useful\n",
        "*   The key components of ML: Data, Models, and Learning\n",
        "*   Different types of ML problems (Supervised, Unsupervised, Reinforcement Learning)\n",
        "*   Some modern ML buzzwords\n",
        "\n",
        "In Part 2, we'll dive into JAX, the powerful framework we'll use to build and train ML models!"
      ]
    },
    {
      "cell_type": "markdown",
      "metadata": {
        "id": "0n--KTVI-BkW"
      },
      "source": [
        "# **Part 2 - JAX Basics** - 40 minutes ⏰\n",
        "\n",
        "Alright, let's dive into JAX! This section will equip you with the foundational JAX knowledge you'll need for the rest of the practicals. Think of JAX as NumPy's cooler, faster cousin, especially when it comes to machine learning.\n",
        "\n",
        "**Why JAX?**\n",
        "\n",
        "JAX is a powerful Python library that turbocharges numerical computation and machine learning.  It's like NumPy but with superpowers:\n",
        "\n",
        "*   🚀 **Blazing Fast:**  JAX uses just-in-time (JIT) compilation to speed up your code, making it run much faster, especially on GPUs and TPUs. Say goodbye to slow loops!\n",
        "*   💡 **Automatic Differentiation:**  JAX can automatically calculate gradients of your functions (using `jax.grad`). This is ESSENTIAL for training neural networks and other ML models, and JAX makes it super easy!\n",
        "*   ✨ **Auto-vectorization & Parallelization:**  JAX can automatically vectorize and parallelize your code across multiple cores or devices (GPUs, TPUs) with minimal effort (using `jax.vmap` and `jax.pmap`).\n",
        "\n",
        "We'll explore these superpowers in this section!"
      ]
    },
    {
      "cell_type": "markdown",
      "metadata": {
        "id": "2JhOquVQ-BkY"
      },
      "source": [
        "<details>\n",
        "  <summary>Dive Deeper: What is JAX Under the Hood?</summary>\n",
        "  <p>\n",
        "      JAX achieves its magic by combining two key technologies:\n",
        "      \n",
        "      *   **Autograd:**  For automatic differentiation (calculating gradients).\n",
        "      *   **XLA (Accelerated Linear Algebra):** For just-in-time compilation and efficient execution, especially on accelerators like GPUs and TPUs.\n",
        "      \n",
        "      These technologies allow JAX to perform numerical computations with incredible speed and flexibility. JAX encourages a **functional programming style**, where functions are pure and transformations are composable, leading to cleaner and more efficient code.\n",
        "  </p>\n",
        "  <p>\n",
        "      While JAX is lower-level than libraries like PyTorch or TensorFlow, its simplicity and powerful primitives make it a favorite for research and for building custom ML systems. For building neural networks, JAX is often used with higher-level libraries like Flax or Haiku, which provide more structure and convenience.\n",
        "  </p>\n",
        "</details>"
      ]
    },
    {
      "cell_type": "markdown",
      "metadata": {
        "id": "7iz1gkPB-BkY"
      },
      "source": [
        "## 2.1 JAX ❤️ NumPy: A Happy Family (10 minutes)\n",
        "\n",
        "Good news! If you already know NumPy, you're in great shape to learn JAX. JAX NumPy (`jax.numpy` or `jnp`) is very similar to NumPy. Most of the NumPy functions you're familiar with work the same way in JAX!\n",
        "\n",
        "Let's explore the similarities and differences."
      ]
    },
    {
      "cell_type": "markdown",
      "metadata": {
        "id": "n33h9NE9-BkY"
      },
      "source": [
        "### Similarities ✅: NumPy Comfort in JAX [optional]\n",
        "\n",
        "JAX NumPy aims to be a drop-in replacement for NumPy for many common operations. Let's see some examples:"
      ]
    },
    {
      "cell_type": "code",
      "metadata": {
        "id": "IKO1T1-s-BkZ"
      },
      "source": [
        "import numpy as np\n",
        "import jax.numpy as jnp\n",
        "\n",
        "def print_comparison(title, np_result, jax_result):\n",
        "    print(f\"\\n**{title}**\") # Markdown formatting for titles!\n",
        "    print(\"=\" * 40)\n",
        "    print(f\"NumPy: {np_result}\")\n",
        "    print(f\"JAX:   {jax_result}\")\n",
        "    print(\"-\" * 40)\n",
        "\n",
        "# Create arrays for use in examples\n",
        "np_array1, np_array2 = np.array([1, 2, 3]), np.array([4, 5, 6])\n",
        "jax_array1, jax_array2 = jnp.array([1, 2, 3]), jnp.array([4, 5, 6])"
      ],
      "execution_count": null,
      "outputs": []
    },
    {
      "cell_type": "markdown",
      "metadata": {
        "id": "gxUrb25I-BkZ"
      },
      "source": [
        "#### ➕ Element-wise Addition: `+`\n",
        "\n"
      ]
    },
    {
      "cell_type": "code",
      "metadata": {
        "id": "1t8_Lnxm-BkZ"
      },
      "source": [
        "np_add = np_array1 + np_array2\n",
        "jax_add = jax_array1 + jax_array2\n",
        "print_comparison(\"Element-wise Addition\", np_add, jax_add)"
      ],
      "execution_count": null,
      "outputs": []
    },
    {
      "cell_type": "markdown",
      "metadata": {
        "id": "b4WUSsBd-Bka"
      },
      "source": [
        "#### 🔪 Indexing and Slicing: `[]`\n",
        "\n",
        "Accessing parts of an array using indices and slices is the same:"
      ]
    },
    {
      "cell_type": "code",
      "metadata": {
        "id": "VaANg0E6-Bka"
      },
      "source": [
        "np_slice = np_array1[1:4] # Get elements from index 1 up to (but not including) 4\n",
        "jax_slice = jax_array1[1:4]\n",
        "print_comparison(\"Array Slicing\", np_slice, jax_slice)"
      ],
      "execution_count": null,
      "outputs": []
    },
    {
      "cell_type": "markdown",
      "metadata": {
        "id": "T2trO_bx-Bka"
      },
      "source": [
        "#### ➡️ Array Concatenation: `.concatenate`\n",
        "\n",
        "Combining arrays is also familiar:"
      ]
    },
    {
      "cell_type": "code",
      "metadata": {
        "id": "RXiANPhD-Bka"
      },
      "source": [
        "np_concat = np.concatenate([np_array1, np_array2])\n",
        "jax_concat = jnp.concatenate([jax_array1, jax_array2])\n",
        "print_comparison(\"Array Concatenation\", np_concat, jax_concat)"
      ],
      "execution_count": null,
      "outputs": []
    },
    {
      "cell_type": "markdown",
      "metadata": {
        "id": "1MH64U9E-Bka"
      },
      "source": [
        "#### ✖️ Matrix Multiplication: `.dot`\n",
        "\n",
        "Matrix multiplication works the same way for linear algebra operations:"
      ]
    },
    {
      "cell_type": "code",
      "metadata": {
        "id": "hGv__Yfy-Bkb"
      },
      "source": [
        "# Create matrices for example\n",
        "np_matrix = np.array([[1, 2], [3, 4]])\n",
        "jax_matrix = jnp.array([[1, 2], [3, 4]])\n",
        "\n",
        "np_matmul = np.dot(np_matrix, np_matrix)\n",
        "jax_matmul = jnp.dot(jax_matrix, jax_matrix)\n",
        "print_comparison(\"Matrix Multiplication\", np_matmul, jax_matmul)"
      ],
      "execution_count": null,
      "outputs": []
    },
    {
      "cell_type": "markdown",
      "metadata": {
        "id": "fbRVkLYg-Bkb"
      },
      "source": [
        "#### 🧮 Mathematical Operations: `.sin`, `.mean`, etc.\n",
        "\n",
        "Many mathematical functions like `sin`, `cos`, `exp`, `mean`, `sum`, etc., are also available in JAX NumPy and behave similarly to their NumPy counterparts:"
      ]
    },
    {
      "cell_type": "code",
      "metadata": {
        "id": "Jg1bXnJb-Bkb"
      },
      "source": [
        "import matplotlib.pyplot as plt\n",
        "\n",
        "# Generate x values\n",
        "x = np.linspace(0, 2*np.pi, 100)\n",
        "\n",
        "# Calculate sine using NumPy\n",
        "y_np = np.sin(x)\n",
        "\n",
        "# Calculate sine using JAX\n",
        "y_jax = jnp.sin(x)\n",
        "\n",
        "# Plotting (same plotting code for both)\n",
        "plt.figure(figsize=(10, 6))\n",
        "plt.plot(x, y_np, label='NumPy sin(x)', color='blue')\n",
        "plt.plot(x, y_jax, label='JAX sin(x)', color='red', linestyle='--')\n",
        "plt.title('Sine Function: NumPy vs JAX')\n",
        "plt.xlabel('x')\n",
        "plt.ylabel('sin(x)')\n",
        "plt.legend()\n",
        "plt.grid(True)\n",
        "plt.show()"
      ],
      "execution_count": null,
      "outputs": []
    },
    {
      "cell_type": "markdown",
      "metadata": {
        "id": "OE5dlnwd-Bkb"
      },
      "source": [
        "### Differences ❌: Where JAX and NumPy Diverge\n",
        "\n",
        "While JAX NumPy is designed to be very similar to NumPy, there are some key differences you need to be aware of, especially when writing ML code."
      ]
    },
    {
      "cell_type": "markdown",
      "metadata": {
        "id": "yH9NJo5Q-Bkb"
      },
      "source": [
        "#### 1. 🚫 Immutability: JAX Arrays Can't Be Changed in Place\n",
        "\n",
        "Unlike NumPy arrays, JAX arrays are **immutable**. This means once you create a JAX array, you cannot modify its values directly.  Trying to change an element in-place will raise an error."
      ]
    },
    {
      "cell_type": "markdown",
      "metadata": {
        "id": "KOT2AOyi-Bkb"
      },
      "source": [
        "Let's see what happens when we try to change the first element of a NumPy array:"
      ]
    },
    {
      "cell_type": "code",
      "metadata": {
        "id": "PLMDTe2O-Bkb"
      },
      "source": [
        "# NumPy: Mutable Arrays (Changes are allowed)\n",
        "x_np = np.arange(10)\n",
        "print(f\"Original NumPy array: {x_np}\")\n",
        "\n",
        "# Change the first element of x_np\n",
        "x_np[0] = 10  # In-place modification - this works!\n",
        "print(f\"Modified NumPy array: {x_np}\") # NumPy array is changed"
      ],
      "execution_count": null,
      "outputs": []
    },
    {
      "cell_type": "markdown",
      "metadata": {
        "id": "z6YumzOh-Bkb"
      },
      "source": [
        "Now, let's try the same with a JAX array:"
      ]
    },
    {
      "cell_type": "code",
      "metadata": {
        "id": "wm3WjwyK-Bkb"
      },
      "source": [
        "# JAX: Immutable Arrays (Changes are NOT allowed)\n",
        "try:\n",
        "    x_jax = jnp.arange(10)\n",
        "    print(f\"Original JAX array: {x_jax}\")\n",
        "    x_jax[0] = 10  # In-place modification - this will cause an error!\n",
        "except Exception as e:\n",
        "    print(f\"Error: {e}\") # JAX array remains unchanged"
      ],
      "execution_count": null,
      "outputs": []
    },
    {
      "cell_type": "markdown",
      "metadata": {
        "id": "oKr7hd8X-Bkb"
      },
      "source": [
        "See? It fails!  JAX throws an error because it doesn't allow in-place modifications.\n",
        "\n",
        "**Updating JAX Arrays Immutably:**\n",
        "\n",
        "To update JAX arrays, you use special \"functional update\" methods like `.at[index].set(value)`. These methods don't modify the original array; instead, they return a *new*, updated copy of the array."
      ]
    },
    {
      "cell_type": "code",
      "metadata": {
        "id": "BtbGmEdB-Bkb"
      },
      "source": [
        "x_jax = jnp.arange(10)\n",
        "print(f\"Original JAX array:  {x_jax}\")\n",
        "\n",
        "new_x_jax = x_jax.at[0].set(10) # Creates a *new* array with the change\n",
        "print(f\"New JAX array (modified): {new_x_jax}\") # 'new_x_jax' is modified\n",
        "print(f\"Original JAX array (unchanged): {x_jax}\") # 'x_jax' is still the same"
      ],
      "execution_count": null,
      "outputs": []
    },
    {
      "cell_type": "markdown",
      "metadata": {
        "id": "MpskPWSy-Bkc"
      },
      "source": [
        "**Key Takeaway:**  Remember to use functional updates like `.at[].set()` when you need to modify JAX arrays. Functional programming is a core principle in JAX and enables its powerful transformations."
      ]
    },
    {
      "cell_type": "markdown",
      "metadata": {
        "id": "-mlbbSov-Bkc"
      },
      "source": [
        "#### 2. 🎲 Explicit Randomness: JAX Makes You Manage Randomness\n",
        "\n",
        "JAX handles random number generation differently than NumPy. In JAX, randomness is **explicit**.  You need to manage random \"keys\" to control random number generation, making your code more reproducible and predictable."
      ]
    },
    {
      "cell_type": "markdown",
      "metadata": {
        "id": "DUNnPKaR-Bkc"
      },
      "source": [
        "Let's compare NumPy's implicit randomness to JAX's explicit approach."
      ]
    },
    {
      "cell_type": "code",
      "metadata": {
        "id": "veZRdBhg-Bkc"
      },
      "source": [
        "import numpy as np\n",
        "import jax.numpy as jnp\n",
        "from jax import random\n",
        "\n",
        "# NumPy: Implicit Randomness (Global Seed)\n",
        "np.random.seed(0) # Set seed globally\n",
        "np_rand = np.random.rand(3) # Generate random numbers\n",
        "print(f\"NumPy Random: {np_rand}\")\n",
        "\n",
        "# JAX: Explicit Randomness (Using Keys)\n",
        "key = random.PRNGKey(0) # Create a random key\n",
        "jax_rand = random.uniform(key, (3,)) # Pass key to random function\n",
        "print(f\"JAX Random:   {jax_rand}\")"
      ],
      "execution_count": null,
      "outputs": []
    },
    {
      "cell_type": "markdown",
      "metadata": {
        "id": "ZGWl42cy-Bkc"
      },
      "source": [
        "**Explanation:**\n",
        "\n",
        "*   **NumPy:** NumPy uses a global random number generator. You set the seed once using `np.random.seed()`, and subsequent calls to NumPy random functions will use that seed implicitly.\n",
        "*   **JAX:** JAX uses explicit random keys. You create a key using `random.PRNGKey()` and then explicitly pass that key to each JAX random function (like `random.uniform`)."
      ]
    },
    {
      "cell_type": "markdown",
      "metadata": {
        "id": "uzyyjLFY-Bkc"
      },
      "source": [
        "**Generating Multiple Sets of Random Numbers in JAX:**\n",
        "\n",
        "If you need multiple sets of independent random numbers in JAX, you must **split** the key each time you need randomness. This ensures that each random operation gets a fresh, independent source of randomness."
      ]
    },
    {
      "cell_type": "code",
      "metadata": {
        "id": "gOQXTo9U-Bkc"
      },
      "source": [
        "import numpy as np\n",
        "import jax.numpy as jnp\n",
        "from jax import random\n",
        "\n",
        "# NumPy: Multiple Random Sets (Implicit - can be less reproducible in complex code)\n",
        "np.random.seed(0)\n",
        "np_rand_set1 = np.random.rand(3)\n",
        "np_rand_set2 = np.random.rand(3)\n",
        "print(f\"NumPy Random Set 1: {np_rand_set1}\")\n",
        "print(f\"NumPy Random Set 2: {np_rand_set2}\")\n",
        "\n",
        "# JAX: Multiple Random Sets (Explicit and Reproducible)\n",
        "key = random.PRNGKey(0)\n",
        "\n",
        "# Split the key to get two independent subkeys\n",
        "key, subkey1 = random.split(key) # key is updated!\n",
        "key, subkey2 = random.split(key) # key is updated again!\n",
        "\n",
        "jax_rand_set1 = random.uniform(subkey1, (3,)) # Use subkey1\n",
        "jax_rand_set2 = random.uniform(subkey2, (3,)) # Use subkey2\n",
        "\n",
        "print(f\"JAX Random Set 1:   {jax_rand_set1}\")\n",
        "print(f\"JAX Random Set 2:   {jax_rand_set2}\")"
      ],
      "execution_count": null,
      "outputs": []
    },
    {
      "cell_type": "markdown",
      "metadata": {
        "id": "TIDNiBvq-Bkc"
      },
      "source": [
        "**Key Takeaway:** JAX's explicit randomness with keys might seem a bit more verbose at first, but it's crucial for reproducibility, especially in complex ML experiments. It gives you fine-grained control over random number generation.\n",
        "\n",
        "If you want to delve deeper into JAX's random number generation, check out the resources mentioned earlier or the [official JAX documentation on randomness](https://jax.readthedocs.io/en/latest/jax-101/05-random-numbers.html)."
      ]
    },
    {
      "cell_type": "markdown",
      "metadata": {
        "id": "foX0uNCo-Bkc"
      },
      "source": [
        "## 2.2 Core JAX Primitives: `jit` and `grad` (10 minutes)\n",
        "\n",
        "Now, let's explore two of JAX's most powerful features (primitives): `jit` and `grad`. These are the building blocks for writing high-performance ML code in JAX."
      ]
    },
    {
      "cell_type": "markdown",
      "metadata": {
        "id": "T8rV76NK-Bkd"
      },
      "source": [
        "### `jit` - Speed Boost with Just-In-Time Compilation 🚀\n",
        "\n",
        "**`jax.jit`** (Just-In-Time compilation) is your secret weapon for making JAX code run FAST. It compiles and caches your Python functions, so they execute super-efficiently using XLA, especially on accelerators like GPUs and TPUs.\n",
        "\n",
        "**How `jit` Works:**\n",
        "\n",
        "`jit` takes your Python function and transforms it into a compiled version that's optimized for your hardware. The first time you run a jitted function, JAX compiles it (this might take a bit longer initially). But subsequent calls are much faster because JAX reuses the compiled version from the cache."
      ]
    },
    {
      "cell_type": "code",
      "metadata": {
        "id": "f1kP7KhO-Bkd"
      },
      "source": [
        "import jax\n",
        "import jax.numpy as jnp\n",
        "import time\n",
        "\n",
        "# Define a simple function\n",
        "def matmul_sum(a, b):\n",
        "    matmul =  jnp.matmul(a, b)\n",
        "    sum = jnp.sum(matmul, axis=0)\n",
        "    return sum\n",
        "\n",
        "# JIT compile the function\n",
        "fast_add = jax.jit(matmul_sum)\n",
        "\n",
        "# Example arrays\n",
        "N = 5\n",
        "x = jnp.arange(N**2).reshape(N,N)\n",
        "y = jnp.arange(N**2).reshape(N,N) + N**2\n",
        "\n",
        "# --- Timing Comparison ---\n",
        "\n",
        "print(\"--- Without JIT --- \")\n",
        "start_time = time.time()\n",
        "result_slow = matmul_sum(x, y)\n",
        "end_time = time.time()\n",
        "print(f\"Result: {result_slow}\")\n",
        "print(f\"Time taken (no jit): {end_time - start_time:.4f} seconds\\n\")\n",
        "\n",
        "print(\"--- With JIT --- \")\n",
        "result_fast = fast_add(x, y) # First call - compilation happens here\n",
        "\n",
        "start_time = time.time()\n",
        "result_fast = fast_add(x, y) # Subsequent calls are faster\n",
        "end_time = time.time()\n",
        "print(f\"Result: {result_fast}\")\n",
        "print(f\"Time taken (jit): {end_time - start_time:.4f} seconds\")"
      ],
      "execution_count": null,
      "outputs": []
    },
    {
      "cell_type": "markdown",
      "metadata": {
        "id": "p8WOY1PE-Bkd"
      },
      "source": [
        "**Observe the speed difference!** The jitted version runs much faster, especially on subsequent calls, thanks to compilation and caching.\n",
        "\n",
        "**Important Note:**  `jit` works best with **pure functions**. Pure functions are functions that:\n",
        "\n",
        "*   Always return the same output for the same inputs (no side effects).\n",
        "*   Don't rely on or modify any external state outside their scope.\n",
        "\n",
        "JAX functions are generally expected to be pure and functional for best performance and predictability."
      ]
    },
    {
      "cell_type": "markdown",
      "metadata": {
        "id": "ooFwh_Ju-Bkd"
      },
      "source": [
        "### `grad` - Automatic Differentiation: Your ML Superpower ✨\n",
        "\n",
        "**`jax.grad`** is the automatic differentiation (autodiff) workhorse in JAX. It lets you compute gradients of Python and NumPy functions with ease. Gradients are the heart of training ML models, and JAX makes calculating them a breeze!\n",
        "\n",
        "**How `grad` Works:**\n",
        "\n",
        "`grad(f)` takes a function `f` as input and returns a *new* function that computes the gradient of `f`. If `f` is a mathematical function \\(f\\), then `grad(f)` is like its derivative \\(f'\\). Calling `grad(f)(x)` gives you the gradient of \\(f\\) evaluated at point \\(x\\)."
      ]
    },
    {
      "cell_type": "code",
      "metadata": {
        "id": "GIxsRu1S-Bkd"
      },
      "source": [
        "import jax\n",
        "import jax.numpy as jnp\n",
        "\n",
        "# Define a function (e.g., square function)\n",
        "def square(x):\n",
        "    return x ** 2\n",
        "\n",
        "# Get the gradient function using jax.grad\n",
        "grad_square = jax.grad(square)\n",
        "\n",
        "# Evaluate the gradient at x = 3.0\n",
        "x = 3.0\n",
        "gradient_at_x = grad_square(x)\n",
        "print(f\"Gradient of square(x) at x = {x}: {gradient_at_x}\") # Should be close to 6.0"
      ],
      "execution_count": null,
      "outputs": []
    },
    {
      "cell_type": "markdown",
      "metadata": {
        "id": "8jewWme0-Bkd"
      },
      "source": [
        "**Intuition:** Gradients tell you the direction of the steepest ascent of a function. In ML, we use gradients to find the direction to *minimize* our loss function (error). Gradient descent and related optimization algorithms use gradients to iteratively update model parameters and reduce loss."
      ]
    },
    {
      "cell_type": "markdown",
      "metadata": {
        "id": "oyymCyGr-Bkd"
      },
      "source": [
        "**Key Takeaway:** `jax.grad` is incredibly powerful. It allows you to automatically compute gradients of even complex Python functions, which is essential for training neural networks without manual differentiation!"
      ]
    },
    {
      "cell_type": "markdown",
      "metadata": {
        "id": "1tBMTGKy-Bke"
      },
      "source": [
        "## 2.3 Auto-vectorization - `vmap` (Bonus - Optional, 5 minutes)\n",
        "\n",
        "**`jax.vmap`** (Vectorizing Map) is another JAX superpower. It automatically vectorizes your functions, allowing you to efficiently apply a function to batches of data without writing explicit loops. This is crucial for performance in ML, where we often process data in batches."
      ]
    },
    {
      "cell_type": "markdown",
      "metadata": {
        "id": "HJgkmKNp-Bke"
      },
      "source": [
        "**Example: Vectorizing the `square` function:**"
      ]
    },
    {
      "cell_type": "code",
      "metadata": {
        "id": "YDadaT4P-Bke"
      },
      "source": [
        "import jax\n",
        "import jax.numpy as jnp\n",
        "\n",
        "# Our simple square function (operates on a single number)\n",
        "def square(x):\n",
        "    return x ** 2\n",
        "\n",
        "# Vectorize 'square' to work on batches using vmap\n",
        "vectorized_square = jax.vmap(square) # Create a batched version\n",
        "\n",
        "# Input batch of numbers\n",
        "x_batch = jnp.array([1.0, 2.0, 3.0])\n",
        "\n",
        "# Apply vectorized function to the batch\n",
        "squared_batch = vectorized_square(x_batch)\n",
        "print(f\"Squared batch: {squared_batch}\")"
      ],
      "execution_count": null,
      "outputs": []
    },
    {
      "cell_type": "markdown",
      "metadata": {
        "id": "5_IXE10B-Bke"
      },
      "source": [
        "**`vmap` Magic:** `vmap(square)` takes the `square` function (which works on single numbers) and automatically creates `vectorized_square`, which can now process entire batches (arrays) of numbers efficiently.\n",
        "\n",
        "**Benefit:** Without `vmap`, you'd have to write explicit loops to process batches, which is slower and less concise. `vmap` does the looping (vectorization) for you under the hood, making your code cleaner and faster."
      ]
    },
    {
      "cell_type": "markdown",
      "metadata": {
        "id": "wjIPcwsZ-Bke"
      },
      "source": [
        "**Key Takeaway:** `jax.vmap` is your friend for efficient batch processing in JAX. It eliminates the need for manual loops and leverages JAX's performance optimizations."
      ]
    },
    {
      "cell_type": "markdown",
      "metadata": {
        "id": "eifgf7oA-Bke"
      },
      "source": [
        "### 🎉 Congratulations! You've Mastered JAX Basics!\n",
        "\n",
        "You've now got a solid foundation in JAX, covering:\n",
        "\n",
        "*   NumPy Compatibility\n",
        "*   Immutability (and functional updates)\n",
        "*   Explicit Randomness with Keys\n",
        "*   `jit` for Speed\n",
        "*   `grad` for Automatic Differentiation\n",
        "*   `vmap` for Auto-vectorization (Bonus)\n",
        "\n",
        "With these JAX primitives in your toolkit, you're well-prepared to tackle more advanced ML tasks in the following practicals. Let's move on to Part 3 to build and train your first neural network!"
      ]
    },
    {
      "cell_type": "markdown",
      "source": [
        "# **Part 3 - Basics of supervised ML (Regression and Classification)** - 40 minutes ⏰\n",
        "\n",
        "\n",
        "\n",
        "Now that we know some basics of JAX, we can do some machine learning! We will start with some simple models (linear regression), then build our way up towards more complex models (neural networks). First, we need to grab some key ML concepts.\n",
        "\n",
        "The curve below is a plot of some data generated using a Sine function. Most often in science, we have data collected through experiments and we want to find a function that explains the data. In general, we need to find a function that maps some inputs in some dimension to some outputs in another dimension.\n",
        "The process of finding such a function also called a **model** is commonly referred to in various fields as **regression**.\n",
        "\n",
        "In machine learning, this refers to finding a function that maps a set of numerical values called **features** to another set of numerical values called **labels or targets**.  If the function is linear, the process is referred to as **linear regression**."
      ],
      "metadata": {
        "id": "EULk5ISwKLlf"
      }
    },
    {
      "cell_type": "markdown",
      "metadata": {
        "id": "NlyiiQNXFWZ5"
      },
      "source": [
        "## **3.1 Linear Regression: Predicting House Prices** - 20 minutes ⏰ - 📈 <font color=\"blue\">Beginner</font>\n",
        "\n",
        "Linear Regression is a simple yet powerful algorithm for **regression tasks**, where we aim to predict a continuous numerical value. Imagine predicting house prices based on their size - that's regression!\n",
        "\n",
        "**What is Linear Regression?**\n",
        "\n",
        "In Linear Regression, we assume a linear relationship between the **input features ($\\mathbf{x}$)** and the **target variable ($\\mathbf{y}$)**.  Our goal is to find the best-fitting line (or hyperplane in higher dimensions) that describes this relationship.\n",
        "\n",
        "**Mathematical Model:**\n",
        "\n",
        "We represent the linear regression model as:\n",
        "$f(\\mathbf{x}) = \\mathbf{w}^T \\mathbf{x} + b$\n",
        "Where:\n",
        "*   $f(\\mathbf{x})$ is the predicted house price for a given house with features $\\mathbf{x}$.\n",
        "*   $\\mathbf{x}$ is a vector of input features (e.g., house size, number of rooms).\n",
        "*   $\\mathbf{w}$ is a vector of **weights** (parameters that determine the slope of the line/hyperplane).\n",
        "*   $b$ is the **bias** term (the y-intercept).\n",
        "\n",
        "Think back to the equation of a line you learned in school: \\(y = mx + c\\).  In linear regression:\n",
        "\n",
        "*   $\\mathbf{w}$ is like the **slope** (\\(m\\))\n",
        "*   $b$ is like the **y-intercept** (\\(c\\))\n",
        "\n",
        "Our task is to learn the optimal values for $\\mathbf{w}$ and $b$ from our data."
      ]
    },
    {
      "cell_type": "markdown",
      "metadata": {
        "id": "oyGWEbkGFWZ5"
      },
      "source": [
        "### 🏠 Toy Dataset: Predicting Housing Prices\n",
        "\n",
        "Let's create a simple dataset of house sizes and their corresponding prices to illustrate linear regression."
      ]
    },
    {
      "cell_type": "markdown",
      "metadata": {
        "id": "kw5315wLFWZ6"
      },
      "source": [
        "| Size of House ($\\mathbf{x}$) in $m^2$ | Price ($\\mathbf{y}$) in 100,000s of $ |\n",
        "|---|---|\n",
        "| 210 | 4.0 |\n",
        "| 160 | 3.3 |\n",
        "| 240 | 3.7 |\n",
        "| 140 | 2.3 |\n",
        "| 300 | 5.4 |"
      ]
    },
    {
      "cell_type": "markdown",
      "metadata": {
        "id": "B1NMFfYYFWZ6"
      },
      "source": [
        "Here's how we represent this data in JAX NumPy:"
      ]
    },
    {
      "cell_type": "code",
      "metadata": {
        "id": "MpOtPzLcFWZ6"
      },
      "source": [
        "import jax.numpy as jnp\n",
        "\n",
        "# Input features (house sizes in square meters)\n",
        "X = jnp.asarray([[210], [160], [240], [140], [300]])\n",
        "\n",
        "# Target values (prices in 100,000s of dollars)\n",
        "Y = jnp.asarray([[4], [3.3], [3.7], [2.3], [5.4]])"
      ],
      "execution_count": null,
      "outputs": []
    },
    {
      "cell_type": "code",
      "metadata": {
        "id": "rvrMCo0oFWZ6"
      },
      "source": [
        "import matplotlib.pyplot as plt\n",
        "import numpy as np # We still need numpy for plotting!\n",
        "\n",
        "def plot_house_data(parameters_list=None, title=\"Housing Prices vs. Size\", axis_pad=1):\n",
        "    \"\"\"Helper function to plot the housing data and linear regression lines.\"\"\"\n",
        "    xlim = [X.min() - axis_pad, X.max() + axis_pad] # Plot limits with padding\n",
        "    ylim = [Y.min() - axis_pad, Y.max() + axis_pad]\n",
        "    fig, ax = plt.subplots()\n",
        "\n",
        "    if parameters_list:\n",
        "        x_pred = np.linspace(xlim[0], xlim[1], 100) # Input range for plotting lines\n",
        "        for params in parameters_list: # Plotting multiple lines (if provided)\n",
        "            y_pred = params['b'] + params['w'] * x_pred # Linear model prediction\n",
        "            ax.plot(x_pred, y_pred, \":\", color=[1, 0.7, 0.6]) # Light dashed lines\n",
        "\n",
        "        params = parameters_list[-1] # Last line is solid and red\n",
        "        y_pred = params['b'] + params['w'] * x_pred\n",
        "        ax.plot(x_pred, y_pred, \"-\", color='red', lw=2, label='Linear Regression Fit') # Solid red line\n",
        "\n",
        "    ax.plot(X, Y, \"ob\", label='House Prices Data') # Plotting data points\n",
        "    ax.set(xlabel=\"House Size (sq meters)\", ylabel=\"Price (100,000s of $)\",\n",
        "           title=title, xlim=xlim, ylim=ylim) # Labels and title\n",
        "    ax.grid(True) # Add grid for better readability\n",
        "    ax.legend() # Show legend\n",
        "    plt.show()\n",
        "\n",
        "plot_house_data() # Show initial data points"
      ],
      "execution_count": null,
      "outputs": []
    },
    {
      "cell_type": "markdown",
      "metadata": {
        "id": "MNwKRa_BFWZ6"
      },
      "source": [
        "Let's visualize our simple dataset. Each blue dot represents a house, with its size on the x-axis and price on the y-axis."
      ]
    },
    {
      "cell_type": "markdown",
      "metadata": {
        "id": "SZE-PGonFWZ6"
      },
      "source": [
        "### 🎲 Building a Linear Regression Model (Randomly)\n",
        "\n",
        "Let's start by creating a linear regression model with *randomly initialized* weights ($\\mathbf{w}$) and bias (\\(b\\)). We'll use JAX's random number generation (remember Part 2!) to create these initial parameters."
      ]
    },
    {
      "cell_type": "code",
      "metadata": {
        "id": "h1Y31WanFWZ6"
      },
      "source": [
        "# Input feature dimension (house size only)\n",
        "input_dim = 1\n",
        "\n",
        "# Initialize random weights (w) and bias (b)\n",
        "key = jax.random.PRNGKey(0) # Random key for reproducibility\n",
        "w_key, b_key = jax.random.split(key) # Split key into two for weights and bias\n",
        "w_initial = jax.random.uniform(w_key, (input_dim,)) # Random weight (shape: (1,))\n",
        "b_initial = jax.random.uniform(b_key, (1,)) # Random bias (shape: (1,))\n",
        "\n",
        "# Store parameters in a dictionary (more organized)\n",
        "initial_params = {'w': w_initial, 'b': b_initial}\n",
        "\n",
        "print(\"Initialized parameters:\", initial_params)\n",
        "\n",
        "# Example prediction for a house of size 210 sq meters\n",
        "sample_house_size = X[:1] # First house size from our dataset\n",
        "predicted_price = initial_params['b'] + initial_params['w'] * sample_house_size\n",
        "print(\"\\nPrediction for a house of size 210 sq meters:\", predicted_price)"
      ],
      "execution_count": null,
      "outputs": []
    },
    {
      "cell_type": "markdown",
      "metadata": {
        "id": "9wlOxfs2FWZ7"
      },
      "source": [
        "In the code above, we:\n",
        "\n",
        "*   Set up the input dimension (1, because we only have house size as a feature).\n",
        "*   Initialized random weights and bias using `jax.random.uniform` and a random key.\n",
        "*   Stored the weights and bias in a Python dictionary called `initial_params` for better organization (we'll use dictionaries to manage parameters throughout).\n",
        "*   Made a prediction for the first house in our dataset using these random parameters."
      ]
    },
    {
      "cell_type": "markdown",
      "metadata": {
        "id": "ZAXGw4AaFWZ7"
      },
      "source": [
        "**Code Task:**\n",
        "\n",
        "Now, extend this to predict prices for **all houses** in our dataset (the entire `X` array) using the `initial_params`. Complete the `linear_model` function below to perform this batched prediction."
      ]
    },
    {
      "cell_type": "code",
      "metadata": {
        "id": "zLOj8jmPFWZ7"
      },
      "source": [
        "from typing import Dict, Any\n",
        "\n",
        "def linear_model(params: Dict[str, jnp.ndarray], X: jnp.ndarray) -> jnp.ndarray:\n",
        "    \"\"\"Applies linear regression model to a batch of inputs.\n",
        "\n",
        "    Args:\n",
        "        params: Dictionary containing model weights 'w' and bias 'b'.\n",
        "        X: Input features array of shape (num_samples, num_features).\n",
        "\n",
        "    Returns:\n",
        "        Predictions array of shape (num_samples, 1).\n",
        "    \"\"\"\n",
        "    w = params['w']\n",
        "    b = ... # YOUR CODE HERE: Extract bias from params dictionary\n",
        "\n",
        "    # YOUR CODE HERE: Compute predictions for all houses (matrix multiplication!)\n",
        "    predictions = ...\n",
        "    return predictions"
      ],
      "execution_count": null,
      "outputs": []
    },
    {
      "cell_type": "code",
      "metadata": {
        "cellView": "form",
        "id": "mdlbFxeYFWZ7"
      },
      "source": [
        "# @title Run this cell to test your `linear_model` function\n",
        "\n",
        "def test_linear_model():\n",
        "    test_predictions = linear_model(initial_params, X)\n",
        "    expected_predictions = X @ initial_params['w'] + initial_params['b']  # Correct calculation\n",
        "    assert jnp.allclose(test_predictions, expected_predictions), \"Predictions are not matching!\"\n",
        "    print(\"\\n🎉 Great job! Your `linear_model` function is working correctly.\")\n",
        "\n",
        "test_linear_model()"
      ],
      "execution_count": null,
      "outputs": []
    },
    {
      "cell_type": "code",
      "metadata": {
        "cellView": "form",
        "id": "9CFkAGm7FWZ7"
      },
      "source": [
        "# @title Double-click for solution\n",
        "def linear_model(params: Dict[str, jnp.ndarray], X: jnp.ndarray) -> jnp.ndarray:\n",
        "    \"\"\"Applies linear regression model to a batch of inputs.\n",
        "\n",
        "    Args:\n",
        "        params: Dictionary containing model weights 'w' and bias 'b'.\n",
        "        X: Input features array of shape (num_samples, num_features).\n",
        "\n",
        "    Returns:\n",
        "        Predictions array of shape (num_samples, 1).\n",
        "    \"\"\"\n",
        "    w = params['w']\n",
        "    b = params['b'] # Solution: Extract bias 'b'\n",
        "\n",
        "    # Solution: Matrix multiplication for batched predictions\n",
        "    predictions =  X @ w + b\n",
        "    return predictions"
      ],
      "execution_count": null,
      "outputs": []
    },
    {
      "cell_type": "markdown",
      "metadata": {
        "id": "ei7LbrDoFWZ7"
      },
      "source": [
        "### 📉 Loss Function: Measuring Prediction Error\n",
        "\n",
        "To train our linear regression model, we need a way to measure how well it's performing. This is where the **loss function** comes in. The loss function quantifies the error between our model's predictions and the actual house prices.\n",
        "\n",
        "For regression problems, a common and effective loss function is the **Mean Squared Error (MSE)**. It calculates the average of the squared differences between the predicted prices ($\\hat{y}$) and the true prices (\\(y\\))."
      ]
    },
    {
      "cell_type": "markdown",
      "metadata": {
        "id": "7SvQNojTFWZ7"
      },
      "source": [
        "$L(\\mathbf{\\theta}) = \\frac{1}{m} \\sum_{i=1}^{m} (y_i - \\hat{y}_i)^2$\n",
        "\n",
        "Where:\n",
        "*   $L(\\mathbf{\\theta})$ is the loss value (lower is better).\n",
        "*   $\\mathbf{\\theta} = [\\mathbf{w}, b]$ represents the model parameters (weights and bias).\n",
        "*   $m$ is the number of houses in our dataset.\n",
        "*   $y_i$ is the actual price of the i-th house.\n",
        "*   $\\hat{y}_i = f(\\mathbf{x}_i) = \\mathbf{w}^T \\mathbf{x}_i + b$ is the predicted price by our linear regression model."
      ]
    },
    {
      "cell_type": "code",
      "metadata": {
        "id": "jjvoHJtmFWZ7"
      },
      "source": [
        "def mean_squared_error_loss(params: Dict[str, jnp.ndarray],\n",
        "                            X: jnp.ndarray,\n",
        "                            y_true: jnp.ndarray) -> float:\n",
        "    \"\"\"Computes the mean squared error loss for linear regression.\n",
        "\n",
        "    Args:\n",
        "        params: Dictionary of model parameters (weights and bias).\n",
        "        X: Input features array.\n",
        "        y_true: True target values array.\n",
        "\n",
        "    Returns:\n",
        "        Mean squared error loss (scalar).\n",
        "    \"\"\"\n",
        "    y_predicted = linear_model(params, X) # Model predictions\n",
        "    loss = jnp.mean((y_true - y_predicted)**2) # Mean squared error calculation\n",
        "    return loss\n",
        "\n",
        "# Let's calculate the loss with our *initial random parameters*:\n",
        "initial_loss = mean_squared_error_loss(initial_params, X, Y)\n",
        "print(f\"Initial Loss with random parameters: {initial_loss:.4f}\")"
      ],
      "execution_count": null,
      "outputs": []
    },
    {
      "cell_type": "markdown",
      "metadata": {
        "id": "N2Ix791nFWZ7"
      },
      "source": [
        "The `mean_squared_error_loss` function calculates how bad our model is with the initial random parameters. A higher loss value means our model is making larger errors."
      ]
    },
    {
      "cell_type": "markdown",
      "metadata": {
        "id": "iE46htgLFWZ7"
      },
      "source": [
        "### 🚀 Optimization: Finding the Best Fit with Gradient Descent\n",
        "\n",
        "Now, the core of machine learning: **optimization**!  Our goal is to find the parameters ($\\mathbf{w}$ and $b$) that minimize the loss function, making our model's predictions as close as possible to the actual house prices.\n",
        "\n",
        "We'll use **Gradient Descent**, a powerful iterative optimization algorithm. Gradient Descent works by:\n",
        "\n",
        "1.  **Calculating Gradients:**  Computing the gradients of the loss function with respect to the model parameters ($\\mathbf{w}$ and $b$). The gradient tells us the direction of the steepest *increase* in loss.\n",
        "2.  **Updating Parameters:**  Adjusting the parameters in the *opposite* direction of the gradient (descent!) to reduce the loss. The **learning rate** ($\\eta$) controls the step size of these adjustments.\n",
        "\n",
        "This process is repeated iteratively until the loss function reaches a minimum (or close to it)."
      ]
    },
    {
      "cell_type": "markdown",
      "metadata": {
        "id": "RDs-ph7BFWZ7"
      },
      "source": [
        "**Gradient Descent Update Rule:**\n",
        "\n",
        "$\\mathbf{\\theta}_{new} = \\mathbf{\\theta}_{old} - \\eta \\nabla_{\\mathbf{\\theta}} L(\\mathbf{\\theta})$\n",
        "\n",
        "Where:\n",
        "*   $\\mathbf{\\theta}$ represents the model parameters (weights and bias).\n",
        "*   $\\eta$ is the **learning rate** (a hyperparameter we choose).\n",
        "*   $\\nabla_{\\mathbf{\\theta}} L(\\mathbf{\\theta})$ is the gradient of the loss function with respect to the parameters."
      ]
    },
    {
      "cell_type": "markdown",
      "metadata": {
        "id": "ctStpZMTFWZ7"
      },
      "source": [
        "**JAX's Automatic Differentiation to the Rescue!**\n",
        "\n",
        "Remember `jax.grad` from Part 2?  It's perfect for calculating these gradients automatically! We don't need to derive complex formulas by hand."
      ]
    },
    {
      "cell_type": "code",
      "metadata": {
        "id": "2Gu1SLujFWZ7"
      },
      "source": [
        "import jax\n",
        "import jax.numpy as jnp\n",
        "import numpy as np # Still using NumPy for data shuffling\n",
        "import matplotlib.pyplot as plt\n",
        "from typing import Dict, Any, Tuple\n",
        "\n",
        "def train_linear_regression_gd(loss_fn, initial_params,\n",
        "                                 X_train: jnp.ndarray, y_train: jnp.ndarray,\n",
        "                                 learning_rate: float = 0.01, num_epochs: int = 100,\n",
        "                                 batch_size: int = 5) -> Dict[str, jnp.ndarray]:\n",
        "    \"\"\"Trains a linear regression model using batch gradient descent in JAX.\n",
        "\n",
        "    Args:\n",
        "        loss_fn: Loss function to minimize.\n",
        "        initial_params: Initial model parameters.\n",
        "        X_train: Training features data.\n",
        "        y_train: Training target values.\n",
        "        learning_rate: Learning rate for gradient descent.\n",
        "        num_epochs: Number of training epochs.\n",
        "        batch_size: Batch size for mini-batch gradient descent.\n",
        "\n",
        "    Returns:\n",
        "        Learned model parameters.\n",
        "    \"\"\"\n",
        "    params = initial_params # Start with initial parameters\n",
        "    loss_values = [] # To track loss over training\n",
        "\n",
        "    # Value and gradient function (using JAX's autodiff!)\n",
        "    loss_and_grad_fn = jax.value_and_grad(loss_fn) # From previous section\n",
        "\n",
        "    for epoch in range(num_epochs):\n",
        "        # Shuffle data for each epoch (using NumPy for simplicity)\n",
        "        num_samples = X_train.shape[0]\n",
        "        indices = np.random.permutation(np.arange(num_samples))\n",
        "        X_train_shuffled = X_train[indices]\n",
        "        y_train_shuffled = y_train[indices]\n",
        "\n",
        "        # Mini-batch gradient descent\n",
        "        for start_index in range(0, num_samples, batch_size):\n",
        "            end_index = min(start_index + batch_size, num_samples)\n",
        "            X_batch = X_train_shuffled[start_index:end_index]\n",
        "            y_batch = y_train_shuffled[start_index:end_index]\n",
        "\n",
        "            # Compute loss and gradients using JAX autodiff\n",
        "            loss_val, grads = loss_and_grad_fn(params, X_batch, y_batch)\n",
        "\n",
        "            # Update parameters (gradient descent step!)\n",
        "            params = jax.tree.map(lambda p, g: p - learning_rate * g, params, grads)  # notice jax.tree.map\n",
        "\n",
        "        loss_values.append(loss_val) # Store loss for plotting\n",
        "\n",
        "    # Plotting the loss curve (how loss changes over epochs)\n",
        "    plt.plot(range(num_epochs), loss_values)\n",
        "    plt.xlabel('Epoch')\n",
        "    plt.ylabel('Mean Squared Error Loss')\n",
        "    plt.title('Training Loss Curve')\n",
        "    plt.show()\n",
        "    return params # Return learned parameters\n",
        "\n",
        "# Train the model using gradient descent\n",
        "learned_params = train_linear_regression_gd(\n",
        "    loss_fn=mean_squared_error_loss, # Our MSE loss function\n",
        "    initial_params=initial_params,   # Random initial parameters\n",
        "    X_train=X,                       # Our housing price data\n",
        "    y_train=Y,\n",
        "    learning_rate=1e-5,            # Learning rate (hyperparameter)\n",
        "    num_epochs=50,                  # Number of epochs (hyperparameter)\n",
        "    batch_size=8                   # Batch size (hyperparameter)\n",
        ")\n",
        "\n",
        "print(\"\\nLearned Parameters:\", learned_params)\n",
        "\n",
        "# Plot the data and the linear regression fit\n",
        "plot_house_data(parameters_list=[initial_params, learned_params],\n",
        "                 title=\"Linear Regression Fit to Housing Prices\")"
      ],
      "execution_count": null,
      "outputs": []
    },
    {
      "cell_type": "markdown",
      "metadata": {
        "id": "JP2TXTB2FWZ8"
      },
      "source": [
        "**Explanation of `train_linear_regression_gd` function:**\n",
        "\n",
        "*   **`loss_and_grad_fn = jax.value_and_grad(loss_fn)`:**  This line is KEY! It uses `jax.value_and_grad` to create a function that efficiently computes both the loss value *and* its gradients with respect to the parameters.\n",
        "*   **Training Loop:** The code then iterates for a specified number of epochs.\n",
        "*   **Mini-Batching:**  Inside each epoch, it shuffles the training data and divides it into mini-batches. Mini-batch gradient descent is a common practice for faster and more stable training.\n",
        "*   **Gradient Calculation and Parameter Update:** For each batch, it calculates the loss and gradients using `loss_and_grad_fn` and updates the model parameters using the gradient descent update rule: `params = jax.tree_map(lambda p, g: p - learning_rate * g, params, grads)`.\n",
        "*   **Loss Tracking:** The training loss is recorded for each iteration to visualize the training progress."
      ]
    },
    {
      "cell_type": "markdown",
      "metadata": {
        "id": "hbK20XdcFWZ8"
      },
      "source": [
        "**Observe the Results:**\n",
        "\n",
        "*   **Loss Curve:** The plot shows how the loss function decreases over training iterations, indicating that our gradient descent optimization is working and the model is learning.\n",
        "*   **Linear Regression Fit:** The red line in the scatter plot represents the linear regression model learned by gradient descent. It should now fit the housing price data much better than the initial random line (dashed lines)."
      ]
    },
    {
      "cell_type": "markdown",
      "metadata": {
        "id": "Z2fzxhzKFWZ8"
      },
      "source": [
        "**Exercise:** Experiment with Hyperparameters\n",
        "\n",
        "Now it's your turn to play with the hyperparameters of the gradient descent algorithm.  Try changing:\n",
        "\n",
        "*   **Learning Rate:**  Experiment with different learning rates (e.g., 0.1, 0.001, 0.0001). What happens if the learning rate is too high or too low?\n",
        "*   **Number of Epochs:**  Train for more or fewer epochs. How does this affect the loss curve and the final fit?\n",
        "*   **Batch Size:**  Try different batch sizes (e.g., 1, 10, 50). How does batch size influence the training process?\n",
        "\n",
        "**Challenge:** Can you find hyperparameter settings that lead to even faster convergence (loss decreasing quickly) and a better fit to the data?"
      ]
    },
    {
      "cell_type": "code",
      "metadata": {
        "id": "XdxCF_rwFWZ8"
      },
      "source": [
        "# Experiment with hyperparameters here!\n",
        "\n",
        "tuned_params = train_linear_regression_gd(\n",
        "    loss_fn=mean_squared_error_loss,\n",
        "    initial_params=initial_params,\n",
        "    X_train=X,\n",
        "    y_train=Y,\n",
        "    learning_rate=1e-5,  # <--- Experiment with learning rate\n",
        "    num_epochs=100,     # <--- Experiment with num_epochs\n",
        "    batch_size=5        # <--- Experiment with batch_size\n",
        ")\n",
        "\n",
        "plot_house_data(parameters_list=[initial_params, learned_params, tuned_params],\n",
        "                 title=\"Linear Regression Fit with Tuned Hyperparameters\")"
      ],
      "execution_count": null,
      "outputs": []
    },
    {
      "cell_type": "markdown",
      "metadata": {
        "id": "sK9efkhCL0T0"
      },
      "source": [
        "## **3.3 Logistic Regression: Classifying Digits** - 20 minutes ⏰ - 📈 <font color=\"yellow\">Intermediate</font>\n",
        "\n",
        "Welcome to Logistic Regression! In the previous section, we tackled **regression**, predicting continuous values like house prices. Now, we'll focus on **classification**, where we predict categories or classes. Our goal is to build a digit classifier for the MNIST dataset (from Part 1!).\n",
        "\n",
        "**From Linear to Logistic Regression:**\n",
        "\n",
        "Linear Regression models a linear relationship between inputs and outputs. But for classification, we need to predict probabilities (values between 0 and 1) for class membership. Logistic Regression extends Linear Regression to handle this."
      ]
    },
    {
      "cell_type": "markdown",
      "metadata": {
        "id": "42bH8musL0T1"
      },
      "source": [
        "### Sigmoid: Squashing Predictions into Probabilities\n",
        "\n",
        "The key to Logistic Regression is the **sigmoid function** ($\\sigma(x)$). It takes any real-valued input (like the output of a linear model) and squashes it into a probability between 0 and 1.\n",
        "<br>\n",
        "<center>\n",
        "  $$\\sigma(x) = \\frac{1}{1+e^{-x}}$$\n",
        "</center>\n",
        "<br>\n",
        "In Logistic Regression, we'll use the sigmoid function to transform the output of our linear model into probabilities, which we can then interpret as the likelihood of belonging to a particular class (e.g., the probability of an image being a '7')."
      ]
    },
    {
      "cell_type": "code",
      "metadata": {
        "id": "E2uQi05JL0T1"
      },
      "source": [
        "import jax.numpy as jnp\n",
        "\n",
        "def sigmoid(x):\n",
        "    \"\"\"Sigmoid activation function: maps to range [0, 1]\"\"\"\n",
        "    prob = ... # YOUR CODE HERE: Implement the sigmoid function\n",
        "    return prob"
      ],
      "execution_count": null,
      "outputs": []
    },
    {
      "cell_type": "code",
      "metadata": {
        "cellView": "form",
        "id": "gEdGrFLjL0T2"
      },
      "source": [
        "# @title Run this cell to test your sigmoid implementation\n",
        "def test_sigmoid_fn():\n",
        "  x  = jnp.array([0.7, 0.3, 0.8, 0.2])\n",
        "  assert jnp.allclose(sigmoid(x), jax.nn.sigmoid(x)), \"Sigmoid implementation test failed!\"\n",
        "  print(\"\\n🎉 Great job! Your sigmoid function is working correctly.\")\n",
        "\n",
        "test_sigmoid_fn()"
      ],
      "execution_count": null,
      "outputs": []
    },
    {
      "cell_type": "code",
      "metadata": {
        "cellView": "form",
        "id": "-IFAHJtSL0T3"
      },
      "source": [
        "# @title Double-click for solution\n",
        "def sigmoid(x):\n",
        "    \"\"\"Sigmoid activation function: maps to range [0, 1]\"\"\"\n",
        "    prob = 1/(1+jnp.exp(-x)) # Solution: Sigmoid formula\n",
        "    return prob"
      ],
      "execution_count": null,
      "outputs": []
    },
    {
      "cell_type": "markdown",
      "metadata": {
        "id": "wF9gHsTDL0T3"
      },
      "source": [
        "### Cross-Entropy Loss: Measuring Error in Probabilities\n",
        "\n",
        "For Logistic Regression (and classification in general), **Mean Squared Error (MSE)** isn't the best loss function. Instead, we use **Cross-Entropy Loss**. [**Optional**: discuss with your neighbor why this is the case!]\n",
        "\n",
        "Cross-entropy loss is designed to measure the difference between probability distributions. In our case, it measures how well our predicted probabilities (from the sigmoid output) match the true class labels (0 or 1 in binary classification)."
      ]
    },
    {
      "cell_type": "markdown",
      "metadata": {
        "id": "zb771ffWL0T3"
      },
      "source": [
        "**Binary Cross-Entropy Loss Formula:**\n",
        "\n",
        "$L(\\mathbf{\\theta}) = - \\frac{1}{m} \\sum_{i=1}^{m} \\left[ y_i \\log(p_i) + (1-y_i) \\log (1-p_i) \\right]$\n",
        "\n",
        "Where:\n",
        "*   $L(\\mathbf{\\theta})$ is the cross-entropy loss.\n",
        "*   $\\mathbf{\\theta} = [\\mathbf{w}, b]$ are the model parameters.\n",
        "*   $m$ is the number of data points.\n",
        "*   $y_i$ is the true label (0 or 1) for the i-th data point.\n",
        "*   $p_i = \\sigma(\\mathbf{w}^T \\mathbf{x}_i + b)$ is the predicted probability (sigmoid output) for the i-th data point."
      ]
    },
    {
      "cell_type": "code",
      "metadata": {
        "id": "4YYken4WL0T3"
      },
      "source": [
        "def cross_entropy_loss(predictions: jnp.ndarray, targets: jnp.ndarray) -> float:\n",
        "    \"\"\"Computes binary cross-entropy loss for logistic regression.\n",
        "\n",
        "    Args:\n",
        "        predictions: Model predictions (logits) for each sample.\n",
        "        targets: True binary labels (0 or 1) for each sample.\n",
        "\n",
        "    Returns:\n",
        "        Cross-entropy loss (scalar).\n",
        "    \"\"\"\n",
        "    eps = 1e-15 # Small constant to avoid log(0) errors\n",
        "    probs = sigmoid(predictions) # Apply sigmoid to get probabilities\n",
        "\n",
        "    # YOUR CODE HERE: Implement cross-entropy loss formula\n",
        "    loss = ...\n",
        "    return loss"
      ],
      "execution_count": null,
      "outputs": []
    },
    {
      "cell_type": "code",
      "metadata": {
        "cellView": "form",
        "id": "mzFh0gQvL0T3"
      },
      "source": [
        "# @title Run this cell to test your cross_entropy_loss implementation\n",
        "def test_cross_entropy_loss():\n",
        "    # Example predictions (logits)\n",
        "    predictions = jnp.array([0.7, 0.3, 0.8, 0.2])\n",
        "    # Example true labels\n",
        "    targets = jnp.array([1, 0, 1, 0])\n",
        "\n",
        "    # Expected cross-entropy loss (pre-calculated)\n",
        "    expected_loss = 0.60669523\n",
        "\n",
        "    computed_loss = cross_entropy_loss(predictions, targets)\n",
        "    assert jnp.isclose(computed_loss, expected_loss), \"Cross-entropy loss test failed!\"\n",
        "    print(\"\\n🎉 Great job! Your cross-entropy loss function is working correctly.\")\n",
        "\n",
        "test_cross_entropy_loss()"
      ],
      "execution_count": null,
      "outputs": []
    },
    {
      "cell_type": "code",
      "metadata": {
        "cellView": "form",
        "id": "Jj15A4FdL0T3"
      },
      "source": [
        "# @title Double-click for solution\n",
        "def cross_entropy_loss(predictions: jnp.ndarray, targets: jnp.ndarray) -> float:\n",
        "    \"\"\"Computes binary cross-entropy loss for logistic regression.\n",
        "\n",
        "    Args:\n",
        "        predictions: Model predictions (logits) for each sample.\n",
        "        targets: True binary labels (0 or 1) for each sample.\n",
        "\n",
        "    Returns:\n",
        "        Cross-entropy loss (scalar).\n",
        "    \"\"\"\n",
        "    eps = 1e-15 # Small constant to avoid log(0) errors\n",
        "    probs = sigmoid(predictions) # Apply sigmoid to get probabilities\n",
        "\n",
        "    # Solution: Cross-entropy loss calculation\n",
        "    loss = -jnp.mean(targets * jnp.log(probs + eps) + (1 - targets) * jnp.log(1 - probs + eps))\n",
        "    return loss"
      ],
      "execution_count": null,
      "outputs": []
    },
    {
      "cell_type": "markdown",
      "metadata": {
        "id": "1RgqyfSkL0T4"
      },
      "source": [
        "### 📚 From Binary to Multi-Class Classification the Softmax function\n",
        "\n",
        "Now, let's extend Logistic Regression to handle **multi-class classification**, like our MNIST digit recognition problem where we have 10 classes (digits 0-9).\n",
        "\n",
        "For multi-class problems, we use the **softmax function** instead of sigmoid. Softmax takes a vector of raw scores (logits) as input and transforms them into a probability distribution over multiple classes, instead of just two. Each element in the output vector represents the probability of belonging to a specific class, and the probabilities sum up to 1."
      ]
    },
    {
      "cell_type": "markdown",
      "metadata": {
        "id": "nXUg9c74L0T4"
      },
      "source": [
        "**Softmax Function Formula:**\n",
        "<br>\n",
        "<center>\n",
        "  $$\\text{softmax}(z)_c = \\frac{e^{z_c}}{\\sum_{j=1}^{C} e^{z_j}}$$\n",
        "</center>\n",
        "<br>\n",
        "Where:\n",
        "*   \\(z\\) is a vector of logits (raw scores) for each class.\n",
        "*   \\(C\\) is the number of classes.\n",
        "*   \\(\\text{softmax}(z)_c\\) is the probability for class \\(c\\).\n",
        "\n",
        "[**Quiz**: Can you derive the sigmoid function as a special case of the softmax?]"
      ]
    },
    {
      "cell_type": "markdown",
      "metadata": {
        "id": "eDAuo1u4L0T4"
      },
      "source": [
        "**One-Hot Encoding for Multi-Class Targets:**\n",
        "\n",
        "In multi-class classification, we typically represent the true class labels using **one-hot encoding**. For example, if we have 3 classes:\n",
        "\n",
        "*   Class 0:  `[1, 0, 0]`\n",
        "*   Class 1:  `[0, 1, 0]`\n",
        "*   Class 2:  `[0, 0, 1]`\n",
        "\n",
        "Each target label is converted into a vector where the element corresponding to the correct class is 1, and all other elements are 0. JAX provides `jax.nn.one_hot` for easy one-hot encoding."
      ]
    },
    {
      "cell_type": "code",
      "metadata": {
        "id": "cxZa_4-BL0T4"
      },
      "source": [
        "# Example of one-hot encoding in JAX\n",
        "num_classes = 3\n",
        "targets = jnp.array([2, 0, 1]) # Example target labels\n",
        "one_hot_targets = jax.nn.one_hot(targets, num_classes) # One-hot encode\n",
        "print(f\"One-hot encoded targets:\\n{one_hot_targets}\")"
      ],
      "execution_count": null,
      "outputs": []
    },
    {
      "cell_type": "markdown",
      "metadata": {
        "id": "mHz2nmGTL0T4"
      },
      "source": [
        "**Multi-Class Cross-Entropy Loss:**\n",
        "\n",
        "For multi-class classification, the cross-entropy loss extends to become:\n",
        "<br>\n",
        "<center>\n",
        "  $$L(\\mathbf{\\theta}) = - \\frac{1}{m} \\sum_{i=1}^{m} \\sum_{c=1}^{C} y_{ic} \\log(p_{ic})$$\n",
        "</center>\n",
        "<br>\n",
        "Where:\n",
        "*   \\(C\\) is the number of classes.\n",
        "*   \\(y_{ic}\\) is the one-hot encoded representation of the true class for the i-th sample.\n",
        "*   \\(p_{ic} = \\text{softmax}(z_{ic})\\) is the predicted probability from the softmax output for class \\(c\\) and sample \\(i\\)."
      ]
    },
    {
      "cell_type": "markdown",
      "metadata": {
        "id": "z6QW6Kd7L0T4"
      },
      "source": [
        "**Code Task:**\n",
        "\n",
        "Now, implement the `softmax` activation function and the `cross_entropy_softmax_loss` function for multi-class classification."
      ]
    },
    {
      "cell_type": "code",
      "metadata": {
        "id": "GOF0h8kiL0T4"
      },
      "source": [
        "def softmax(logits: jnp.ndarray) -> jnp.ndarray:\n",
        "  \"\"\"Computes softmax probabilities from logits.\n",
        "\n",
        "    Args:\n",
        "        logits: Logits array (num_samples, num_classes).\n",
        "\n",
        "    Returns:\n",
        "        Probabilities array (num_samples, num_classes).\n",
        "  \"\"\"\n",
        "  # YOUR CODE HERE: Implement the softmax function\n",
        "  probs = ...\n",
        "  return probs"
      ],
      "execution_count": null,
      "outputs": []
    },
    {
      "cell_type": "code",
      "metadata": {
        "cellView": "form",
        "id": "BGDWLEEvL0T4"
      },
      "source": [
        "# @title Run this cell to test your softmax implementation\n",
        "def test_softmax():\n",
        "    x = jnp.array([[1.0, 0.4, 0.3], [10.0, 4.6, 8.9]])\n",
        "    assert jnp.allclose(softmax(x), jax.nn.softmax(x, axis=-1)), \"Softmax implementation test failed!\"\n",
        "    print(\"\\n🎉 Great job! Your softmax function is working correctly.\")\n",
        "\n",
        "test_softmax()"
      ],
      "execution_count": null,
      "outputs": []
    },
    {
      "cell_type": "code",
      "metadata": {
        "cellView": "form",
        "id": "4wOkA9fPL0T4"
      },
      "source": [
        "# @title Double-click for solution\n",
        "def softmax(logits: jnp.ndarray) -> jnp.ndarray:\n",
        "  \"\"\"Computes softmax probabilities from logits.\n",
        "\n",
        "    Args:\n",
        "        logits: Logits array (num_samples, num_classes).\n",
        "\n",
        "    Returns:\n",
        "        Probabilities array (num_samples, num_classes).\n",
        "  \"\"\"\n",
        "  exp_logits = jnp.exp(logits)\n",
        "  probs = exp_logits / jnp.sum(exp_logits, axis=-1, keepdims=True) # Solution\n",
        "  return probs"
      ],
      "execution_count": null,
      "outputs": []
    },
    {
      "cell_type": "code",
      "metadata": {
        "id": "mhTCAyGDL0T4"
      },
      "source": [
        "def cross_entropy_softmax_loss(predictions: jnp.ndarray, targets: jnp.ndarray) -> float:\n",
        "    \"\"\"Computes cross-entropy loss for multi-class classification.\n",
        "\n",
        "    Args:\n",
        "        predictions: Model predictions (logits) for each sample.\n",
        "        targets: True class labels (integers) for each sample.\n",
        "\n",
        "    Returns:\n",
        "        Cross-entropy loss (scalar).\n",
        "    \"\"\"\n",
        "    eps = 1e-15 # Small constant for numerical stability\n",
        "    probs = ... # YOUR CODE HERE: Compute softmax probabilities\n",
        "    num_classes = ... # YOUR CODE HERE: Get number of classes from predictions\n",
        "\n",
        "    # YOUR CODE HERE: One-hot encode targets\n",
        "    targets_one_hot = ...\n",
        "\n",
        "    # YOUR CODE HERE: Calculate cross-entropy loss\n",
        "    loss = ...\n",
        "    return loss"
      ],
      "execution_count": null,
      "outputs": []
    },
    {
      "cell_type": "code",
      "metadata": {
        "cellView": "form",
        "id": "hDIfRdeZL0T5"
      },
      "source": [
        "# @title Run this cell to test your `cross_entropy_softmax_loss` implementation\n",
        "def test_cross_entropy_softmax_loss():\n",
        "    # Example logits (predictions) for 3 classes\n",
        "    predictions = jnp.array([[1.5, 0.3, 2.7],\n",
        "                             [0.8, 1.2, 3.1],\n",
        "                             [2.3, 1.7, 0.5],\n",
        "                             [3.0, 0.5, 1.2],\n",
        "                             [0.2, 2.8, 1.0]])\n",
        "    targets = jnp.array([2, 1, 0, 0, 2]) # Example true labels\n",
        "    expected_loss = 1.0456787 # Expected loss value\n",
        "\n",
        "    computed_loss = cross_entropy_softmax_loss(predictions, targets)\n",
        "    assert jnp.allclose(computed_loss, expected_loss), \"Cross-entropy softmax loss test failed!\"\n",
        "    print(\"\\n🎉 Great job! Your cross-entropy softmax loss function is working correctly.\")\n",
        "\n",
        "test_cross_entropy_softmax_loss()"
      ],
      "execution_count": null,
      "outputs": []
    },
    {
      "cell_type": "code",
      "metadata": {
        "cellView": "form",
        "id": "064WLEkaL0T5"
      },
      "source": [
        "# @title Double-click for solution\n",
        "def cross_entropy_softmax_loss(predictions, targets):\n",
        "    \"\"\"Computes cross-entropy loss for multi-class classification.\n",
        "\n",
        "      Args:\n",
        "        predictions: (num_samples, num_classes)\n",
        "        targets: (num_samples)\n",
        "    \"\"\"\n",
        "    # Compute the softmax probabilities\n",
        "    probs = softmax(predictions) # Solution\n",
        "    num_classes = predictions.shape[-1] # Solution\n",
        "\n",
        "    # One-hot encode the targets\n",
        "    targets_one_hot = jax.nn.one_hot(targets, num_classes) # Solution\n",
        "\n",
        "    # Compute the cross-entropy loss\n",
        "    eps = 1e-15 # Small constant for numerical stability\n",
        "    probs += eps # to avoid calling log with 0 values\n",
        "    loss_i = -jnp.sum(targets_one_hot * jnp.log(probs), axis=-1) # Solution\n",
        "    return jnp.mean(loss_i)"
      ],
      "execution_count": null,
      "outputs": []
    },
    {
      "cell_type": "markdown",
      "metadata": {
        "id": "8U9L2RRgN344"
      },
      "source": [
        "### 🧠 Multi-Class Logistic Regression (Softmax Regression) - Classifying MNIST Digits\n",
        "\n",
        "Let's scale up to **multi-class classification** and build a digit classifier for the MNIST dataset! We'll use the **softmax activation** and **cross-entropy softmax loss** that we defined earlier."
      ]
    },
    {
      "cell_type": "markdown",
      "metadata": {
        "id": "hLaOLRwEN344"
      },
      "source": [
        "**Building a Multi-Class Classifier with Linear Layer + Softmax:**\n",
        "\n",
        "For multi-class classification, our model will consist of:\n",
        "\n",
        "1.  **Linear Layer:**  A linear transformation (just like in Linear Regression and Binary Logistic Regression) to produce logits for each class.\n",
        "2.  **Softmax Activation:**  Applying the softmax function to the logits to convert them into probabilities for each class.\n",
        "\n",
        "Think of the multi-class linear layer as multiple instances of the simple linear layer of Part 3.2, each of them producing a value that will be given to our `softmax` function.\n",
        "\n",
        "We will consider two ways to build the linear layer, one following the approach of Part 3.2, and one using _Flax_, a higher level library for machine learning in Jax."
      ]
    },
    {
      "cell_type": "markdown",
      "metadata": {
        "id": "NbAp37zDQGjz"
      },
      "source": [
        "### Building a Multi-Class Logistic Regression Model (Linear + Softmax) - Pure JAX Version\n",
        "\n",
        "Let's first create a function `predict_digit_pure_jax` that combines a linear layer (using JAX NumPy) and the `softmax` activation."
      ]
    },
    {
      "cell_type": "code",
      "metadata": {
        "id": "L2RNF7udQGjz"
      },
      "source": [
        "import jax\n",
        "import jax.numpy as jnp\n",
        "from typing import Dict, Any\n",
        "\n",
        "def predict_digit_pure_jax(params: Dict[str, jnp.ndarray], X: jnp.ndarray) -> jnp.ndarray:\n",
        "    \"\"\"Logistic Regression model for multi-class classification (pure JAX).\n",
        "\n",
        "    Args:\n",
        "        params: Model parameters (weights and bias).\n",
        "        X: Input features array (num_samples, num_features).\n",
        "\n",
        "    Returns:\n",
        "        Logits (raw scores) for each class.\n",
        "    \"\"\"\n",
        "    w = params['w']\n",
        "    b = params['b']\n",
        "\n",
        "    # YOUR CODE HERE: Linear transformation (matrix multiplication and bias addition)\n",
        "    logits = ... # Output logits (raw scores) - hint: similar to linear_model from Part 3.1\n",
        "    return logits # Returns logits (raw scores)"
      ],
      "execution_count": null,
      "outputs": []
    },
    {
      "cell_type": "code",
      "metadata": {
        "id": "husQlg1_QGjz",
        "cellView": "form"
      },
      "source": [
        "# @title Run this cell to test your `predict_digit_pure_jax` implementation\n",
        "def test_predict_digit_pure_jax():\n",
        "    # Dummy parameters (replace with your initialized parameters later)\n",
        "    params_test = {\n",
        "        'w': jnp.ones((784, 10)),  # Example weights for MNIST (784 inputs, 10 outputs)\n",
        "        'b': jnp.zeros((10,))\n",
        "    }\n",
        "\n",
        "    # Dummy input data (replace with your MNIST data later)\n",
        "    dummy_input = jnp.zeros((1, 784))\n",
        "\n",
        "    # Check if the output shape is correct (should be (1, 10) for 1 sample, 10 classes)\n",
        "    predictions = predict_digit_pure_jax(params_test, dummy_input)\n",
        "    assert predictions.shape == (1, 10), \"Output shape is incorrect!\"\n",
        "    print(\"\\n🎉 Great job! Your `predict_digit_pure_jax` function is working correctly.\")\n",
        "\n",
        "test_predict_digit_pure_jax()"
      ],
      "execution_count": null,
      "outputs": []
    },
    {
      "cell_type": "code",
      "metadata": {
        "id": "kSue5UhSQGjz",
        "cellView": "form"
      },
      "source": [
        "# @title Double-click for solution\n",
        "import jax\n",
        "import jax.numpy as jnp\n",
        "from typing import Dict, Any\n",
        "\n",
        "def predict_digit_pure_jax(params: Dict[str, jnp.ndarray], X: jnp.ndarray) -> jnp.ndarray:\n",
        "    \"\"\"Logistic Regression model for multi-class classification (pure JAX).\n",
        "\n",
        "    Args:\n",
        "        params: Model parameters (weights and bias).\n",
        "        X: Input features array (num_samples, num_features).\n",
        "\n",
        "    Returns:\n",
        "        Logits (raw scores) for each class.\n",
        "    \"\"\"\n",
        "    w = params['w']\n",
        "    b = params['b']\n",
        "\n",
        "    # Solution: Linear transformation (matrix multiplication and bias addition)\n",
        "    logits =  X @ w + b # Output logits (raw scores)\n",
        "    return logits # Returns logits (raw scores)"
      ],
      "execution_count": null,
      "outputs": []
    },
    {
      "cell_type": "markdown",
      "metadata": {
        "id": "xbNZn2jgQGjz"
      },
      "source": [
        "### Building a Multi-Class Logistic Regression Model (using Flax Linen)\n",
        "\n",
        "Now, let's create the **same** Logistic Regression model, but this time using **Flax Linen modules**. Flax Linen provides a more structured and convenient way to define neural networks in JAX.  We'll use `nn.Dense` to represent the linear layer, just like we did for the simple neural network in Part 3.2."
      ]
    },
    {
      "cell_type": "code",
      "metadata": {
        "id": "d_eNCgF6QGjz"
      },
      "source": [
        "import flax.linen as nn # Import Flax Linen\n",
        "import jax\n",
        "import jax.numpy as jnp\n",
        "\n",
        "class LogisticRegression(nn.Module):\n",
        "  num_classes: int # Number of output classes (e.g., 10 for MNIST)\n",
        "\n",
        "  @nn.compact # Flax-specific decorator for compact module definition\n",
        "  def __call__(self, x):\n",
        "    \"\"\"Applies the Logistic Regression model.\n",
        "\n",
        "        Args:\n",
        "            x: Input features array (num_samples, num_features).\n",
        "        Returns:\n",
        "            Logits (raw scores) for each class.\n",
        "    \"\"\"\n",
        "    # YOUR CODE HERE: Linear layer using nn.Dense\n",
        "    logits = nn.Dense( ... )(x) # Linear transformation with nn.Dense\n",
        "    return logits # Output logits"
      ],
      "execution_count": null,
      "outputs": []
    },
    {
      "cell_type": "code",
      "metadata": {
        "id": "awgnxwciQGjz"
      },
      "source": [
        "# @title Run this cell to test your Flax Linen Logistic Regression model\n",
        "def test_logistic_regression_flax():\n",
        "    # Initialize Flax Linen LogisticRegression model\n",
        "    model = LogisticRegression(num_classes=10) # 10 classes for MNIST\n",
        "    key = jax.random.PRNGKey(0)\n",
        "    dummy_input = jnp.zeros((1, 784))\n",
        "    initial_params = model.init(key, dummy_input)\n",
        "\n",
        "    # Check if the output shape is correct (should be (1, 10))\n",
        "    predictions = model.apply(initial_params, dummy_input)\n",
        "    assert predictions.shape == (1, 10), \"Output shape of Flax Linen model is incorrect!\"\n",
        "    print(\"\\n🎉 Great job! Your Flax Linen Logistic Regression model is working correctly.\")\n",
        "\n",
        "test_logistic_regression_flax()"
      ],
      "execution_count": null,
      "outputs": []
    },
    {
      "cell_type": "code",
      "metadata": {
        "id": "ZEl0A5naQGj0",
        "cellView": "form"
      },
      "source": [
        "# @title Double-click for solution\n",
        "import flax.linen as nn # Import Flax Linen\n",
        "import jax\n",
        "import jax.numpy as jnp\n",
        "\n",
        "class LogisticRegression(nn.Module):\n",
        "  num_classes: int # Number of output classes (e.g., 10 for MNIST)\n",
        "\n",
        "  @nn.compact # Flax-specific decorator for compact module definition\n",
        "  def __call__(self, x):\n",
        "    \"\"\"Applies the Logistic Regression model.\n",
        "\n",
        "        Args:\n",
        "            x: Input features array (num_samples, num_features).\n",
        "        Returns:\n",
        "            Logits (raw scores) for each class.\n",
        "    \"\"\"\n",
        "    # Solution: Linear layer using nn.Dense\n",
        "    logits = nn.Dense(features=self.num_classes)(x) # Linear transformation with nn.Dense\n",
        "    return logits # Output logits"
      ],
      "execution_count": null,
      "outputs": []
    },
    {
      "cell_type": "markdown",
      "metadata": {
        "id": "J6pPz4GNQGj0"
      },
      "source": [
        "**Explanation:**\n",
        "\n",
        "*   **`class LogisticRegression(nn.Module):`:**  We define our Logistic Regression model as a Flax Linen module, inheriting from `nn.Module`.\n",
        "*   **`@nn.compact`:** This decorator is a Flax Linen feature that makes module definitions more concise.\n",
        "*   **`nn.Dense(features=self.num_classes)(x)`:** This single line defines our linear layer using Flax Linen's `nn.Dense` module. `features=self.num_classes` specifies the number of output units (classes).\n",
        "*   **`return logits`:** The model returns the logits (raw scores) from the linear layer."
      ]
    },
    {
      "cell_type": "markdown",
      "metadata": {
        "id": "MsFZ516YQGj0"
      },
      "source": [
        "**Key Takeaway:** Flax Linen's `nn.Module` and `nn.Dense` provide a more structured and convenient way to define models, especially as they become more complex (like neural networks in the next section!)."
      ]
    },
    {
      "cell_type": "code",
      "source": [
        "# For the next cell we'll need clu, a convienient JAX utilities library.\n",
        "!pip install clu"
      ],
      "metadata": {
        "id": "PpgY2NFZkqtc"
      },
      "execution_count": null,
      "outputs": []
    },
    {
      "cell_type": "code",
      "metadata": {
        "id": "tA-OL-LSN344"
      },
      "source": [
        "from clu import parameter_overview\n",
        "\n",
        "# Model and data parameters\n",
        "input_size = 784 # MNIST images are flattened to 784 features\n",
        "num_classes = 10 # 10 digits (0-9) for MNIST\n",
        "seed = 0\n",
        "\n",
        "# Initialize Logistic Regression model\n",
        "model = LogisticRegression(num_classes=num_classes)\n",
        "key = jax.random.PRNGKey(seed)\n",
        "dummy_input = jnp.zeros((1, input_size), dtype=jnp.float32) # Dummy input\n",
        "initial_params = model.init(key, dummy_input) # Initialize parameters\n",
        "\n",
        "# Print parameter overview\n",
        "print(parameter_overview.get_parameter_overview(initial_params, include_stats=False))"
      ],
      "execution_count": null,
      "outputs": []
    },
    {
      "cell_type": "markdown",
      "metadata": {
        "id": "5g91_d6wN344"
      },
      "source": [
        "We've created our multi-class Logistic Regression model! Notice the parameter shapes in the output above. The `Dense_0` layer now has weights of shape `(784, 10)` and biases of shape `(10)`, corresponding to the 10 output classes."
      ]
    },
    {
      "cell_type": "markdown",
      "metadata": {
        "id": "OgTvS-uiN344"
      },
      "source": [
        "### 🏠 **Take home task:** train the multi-class classifier on MNIST  (Optional, Advanced)\n",
        "\n",
        "Using our `batch_gradient_descent` training loop and the `cross_entropy_softmax_loss` function, implement the training of the `LogisticRegression` model on the MNIST dataset\n"
      ]
    },
    {
      "cell_type": "code",
      "source": [
        "# ... YOUR CODE GOES HERE"
      ],
      "metadata": {
        "id": "bMTpVkJZS18T"
      },
      "execution_count": null,
      "outputs": []
    },
    {
      "cell_type": "markdown",
      "metadata": {
        "id": "y961PPBiWHSV"
      },
      "source": [
        "# Part 4 - **Advanced:** Building and Training a Neural Network in JAX with Flax (20 minutes) ⏰\n",
        "\n",
        "Congrats, you have come a long way! By now you are familiar with most basic building blocks to train one of the most paradigmatic machine learning models: a Neural Network! In fact, a simple and basic neural network is a stack of:\n",
        "\n",
        "*   linear layers\n",
        "*   non-linear activation functions such as sigmoid, or the rectified linear unit (ReLU = $max(0,x)$)\n",
        "*   a multi-class softmax classifier at the end.\n",
        "\n",
        "Let's put our JAX knowledge to work and build a simple neural network for classification! We'll use Flax, to make things easier. We'll train this network to classify handwritten digits from the MNIST dataset."
      ]
    },
    {
      "cell_type": "code",
      "source": [
        "import flax.linen as nn\n",
        "import jax\n",
        "import jax.numpy as jnp\n",
        "\n",
        "# download Mnist and store it at ~/scikit_learn_data for offline use\n",
        "from sklearn.datasets import fetch_openml\n",
        "X, y = fetch_openml('mnist_784', version=1, return_X_y=True, as_frame=False)"
      ],
      "metadata": {
        "id": "lJHM7AwyWHSV"
      },
      "execution_count": null,
      "outputs": []
    },
    {
      "cell_type": "markdown",
      "metadata": {
        "id": "kzTdkuEGWHSV"
      },
      "source": [
        "### 🧱 Define the Neural Network Architecture with Flax Linen **[exercise]**\n",
        "\n",
        "We'll create a simple feedforward neural network with two hidden layers using Flax Linen's `nn.Module`."
      ]
    },
    {
      "cell_type": "code",
      "metadata": {
        "id": "ju0Rgt_cWHSV"
      },
      "source": [
        "class SimpleClassifier(nn.Module):\n",
        "    num_classes: int # Output size - number of classes for classification\n",
        "\n",
        "    @nn.compact # Linen decorator to indicate compact module definition\n",
        "    def __call__(self, x): # Flax modules are classes with a __call__ method\n",
        "        # Flatten the input image to a vector (784 features)\n",
        "        x = x.reshape((x.shape[0], -1)) # [batch_size, 28*28]\n",
        "\n",
        "        # Hidden layer 1: Dense (linear) layer followed by ReLU activation\n",
        "        x = nn.Dense(features=128)(x) # Linear transformation\n",
        "        x = nn.relu(x) # Apply ReLU activation function\n",
        "\n",
        "        # Hidden layer 2: Another Dense layer with ReLU\n",
        "        x = # ... your code here\n",
        "        x = # ... your code here\n",
        "\n",
        "        # Output layer: Dense layer to produce logits for each class\n",
        "        x = nn.Dense(features=self.num_classes)(x) # Linear layer, no activation\n",
        "        return x # Output logits (unnormalized probabilities)"
      ],
      "execution_count": null,
      "outputs": []
    },
    {
      "cell_type": "markdown",
      "metadata": {
        "id": "EiS2lpRaWHSV"
      },
      "source": [
        "**Explanation:**\n",
        "\n",
        "*   **`class SimpleClassifier(nn.Module):`**: We define our neural network as a class inheriting from `flax.linen.Module`.\n",
        "*   **`num_classes: int`**: This line defines a \"parameter\" for our module, specifying the number of output classes (10 for MNIST digits).\n",
        "*   **`@nn.compact`**: This decorator tells Flax Linen to optimize the module definition for conciseness.\n",
        "*   **`def __call__(self, x):`**: The `__call__` method defines the forward pass of our network. It takes the input `x` (an image batch) and processes it through the layers.\n",
        "*   **`x = x.reshape(...)`**: We flatten the 28x28 images into vectors of size 784, suitable as input to dense layers.\n",
        "*   **`nn.Dense(features=...)`**: These are fully connected (dense) layers. Each `nn.Dense` layer performs a linear transformation (matrix multiplication and bias addition).\n",
        "*   **`nn.relu(x)`**:  ReLU (Rectified Linear Unit) activation function is applied after each hidden dense layer to introduce non-linearity.\n",
        "*   **Output Layer:** The final `nn.Dense(features=self.num_classes)` layer produces the output logits. **No activation function is applied here** because we want the raw logits as input to our loss function (cross-entropy)."
      ]
    },
    {
      "cell_type": "markdown",
      "metadata": {
        "id": "pz9GisGQWHSV"
      },
      "source": [
        "### ⚙️ Initialize Parameters\n",
        "\n",
        "Before training, we need to initialize our model's parameters (weights and biases). We'll use Flax's `model.init` to do this.\n",
        "\n",
        "Note `model.init` takes an example input to figure out the internal shapes and computational graph of the model:"
      ]
    },
    {
      "cell_type": "code",
      "metadata": {
        "id": "zIgVH5WLWHSV"
      },
      "source": [
        "input_shape = (1, 28, 28, 1) # Shape of MNIST images (batch_size, height, width, channels)\n",
        "num_classes = 10 # MNIST digits 0-9\n",
        "model = SimpleClassifier(num_classes=num_classes) # Create an instance of our model\n",
        "\n",
        "key = jax.random.PRNGKey(0) # Random key for initialization\n",
        "dummy_input = jnp.ones(input_shape) # Dummy input with the correct shape\n",
        "\n",
        "# Initialize parameters (variables in Flax)\n",
        "initial_params = model.init(key, dummy_input) # Get initial parameter values\n",
        "\n",
        "print(initial_params) # Print the initialized parameters (nested dictionary)"
      ],
      "execution_count": null,
      "outputs": []
    },
    {
      "cell_type": "markdown",
      "metadata": {
        "id": "Xo4mEGOsWHSV"
      },
      "source": [
        "**Explanation:**\n",
        "\n",
        "*   **`input_shape = (-1, 28, 28, 1)`**: We define the expected shape of our input images. The `-1` indicates a batch dimension (which can be of any size), followed by image dimensions (28x28 pixels) and channels (1 for grayscale).\n",
        "*   **`model = SimpleClassifier(num_classes=num_classes)`**: We create an instance of our `SimpleClassifier` model, telling it we have 10 output classes.\n",
        "*   **`key = jax.random.PRNGKey(0)`**: We create a random key for parameter initialization.\n",
        "*   **`dummy_input = jnp.ones(input_shape)`**: We create a dummy input tensor with the correct shape. JAX needs this to infer the shapes of the weights and biases in our network.\n",
        "*   **`initial_params = model.init(key, dummy_input)`**: This is where the magic happens! `model.init` uses the random key and dummy input to initialize the parameters of our network. The result, `initial_params`, is a nested dictionary containing the weights and biases for each layer."
      ]
    },
    {
      "cell_type": "markdown",
      "metadata": {
        "id": "u080AMYAWHSV"
      },
      "source": [
        "### 🔮 Define the Forward Pass (Prediction) Function  **[exercise]**\n",
        "\n",
        "Now, let's create a function for making predictions with our model. This function will take the parameters and input data and run the forward pass through the network:"
      ]
    },
    {
      "cell_type": "code",
      "metadata": {
        "id": "cH3GAcnlWHSV"
      },
      "source": [
        "# Define the forward pass function\n",
        "def forward_pass(params, x):\n",
        "    logits = model.apply(params, x) # Apply the model, get logits\n",
        "    # Convert logits to probabilities using softmax.\n",
        "    # Hint: use nn.softmax, pay attention to which axis to compute softmax over\n",
        "    probs = # ... your code here\n",
        "    return probs # Return probability distribution over classes\n"
      ],
      "execution_count": null,
      "outputs": []
    },
    {
      "cell_type": "markdown",
      "metadata": {
        "id": "DyDEAYraWHSW"
      },
      "source": [
        "#### Explanation: (try not to peek)\n"
      ]
    },
    {
      "cell_type": "markdown",
      "source": [
        "\n",
        "*   **`def forward_pass(params, x):`**: This function takes the model parameters (`params`) and input data (`x`) as arguments.\n",
        "*   **`logits = model.apply(params, x)`**: We use `model.apply` to perform the forward pass through our network, using the provided parameters and input `x`. This gives us the raw output of the network, called \"logits\".\n",
        "*   **`probs = nn.softmax(logits, axis=-1)`**: We apply the softmax function to the logits to convert them into probabilities. Softmax ensures that the outputs sum to 1 and represent a valid probability distribution across the classes. `axis=-1` applies softmax along the class dimension.\n"
      ],
      "metadata": {
        "id": "DPpb-GWlWHSW"
      }
    },
    {
      "cell_type": "markdown",
      "metadata": {
        "id": "8Vq1YloxWHSW"
      },
      "source": [
        "### 📉 Define the Loss Function\n",
        "\n",
        "We'll use the cross-entropy loss, which is commonly used for multi-class classification. We'll also define a function to calculate accuracy, which is a more interpretable metric for evaluating our classifier."
      ]
    },
    {
      "cell_type": "code",
      "metadata": {
        "id": "t8oOzqmJWHSW"
      },
      "source": [
        "# Loss function (Cross-entropy loss for classification)\n",
        "def cross_entropy_loss(params, x_batch, y_batch):\n",
        "    eps = 1e-15 # Small constant to avoid log(0) errors\n",
        "    probs = forward_pass(params, x_batch) # Get predictions (probabilities)\n",
        "    log_probs = jnp.log(probs + eps) # Take the logarithm of probabilities\n",
        "    one_hot_targets = jax.nn.one_hot(y_batch, num_classes=num_classes) # One-hot encode targets\n",
        "    return -jnp.mean(jnp.sum(one_hot_targets * log_probs, axis=-1)) # Cross-entropy loss\n",
        "\n",
        "# Accuracy metric\n",
        "def accuracy(params, x_batch, y_batch):\n",
        "    preds = forward_pass(params, x_batch) # Get predictions\n",
        "    predicted_classes = jnp.argmax(preds, axis=-1) # Get class with highest probability\n",
        "    return jnp.mean(predicted_classes == y_batch) # Calculate accuracy"
      ],
      "execution_count": null,
      "outputs": []
    },
    {
      "cell_type": "markdown",
      "metadata": {
        "id": "CGwr4c67WHSW"
      },
      "source": [
        "**Explanation:**\n",
        "\n",
        "*   **`cross_entropy_loss(params, x_batch, y_batch)`**: This function calculates the cross-entropy loss for a batch of data.\n",
        "    *   It uses `forward_pass` to get the probability predictions from our model.\n",
        "    *   It converts the integer labels `y_batch` into one-hot encoded vectors using `jax.nn.one_hot`.\n",
        "    *   It computes the cross-entropy loss using standard formulas and returns the *mean* loss over the batch.\n",
        "*   **`accuracy(params, x_batch, y_batch)`**: This function calculates the accuracy of our model on a batch of data.\n",
        "    *   It uses `forward_pass` to get predictions.\n",
        "    *   `jnp.argmax(preds, axis=-1)`:  Finds the class with the highest probability for each sample in the batch (giving us the predicted class labels).\n",
        "    *   `jnp.mean(predicted_classes == y_batch)`:  Compares the predicted classes to the true labels (`y_batch`) and calculates the mean accuracy (fraction of correct predictions)."
      ]
    },
    {
      "cell_type": "markdown",
      "metadata": {
        "id": "g34P1UCNWHSW"
      },
      "source": [
        "### 🏋️‍♀️ Define the Training Loop (using Gradient Descent)\n",
        "\n",
        "Now we'll write the training loop using gradient descent to optimize our model parameters.\n",
        "\n",
        "We'll use `jax.value_and_grad`, which is similar to `jax.grad` but returns the value of the function together with the grad, and `jax.jit` to speed up the training step."
      ]
    },
    {
      "cell_type": "code",
      "metadata": {
        "id": "XUFJiNb5WHSW"
      },
      "source": [
        "def train_step(params, x_batch, y_batch, learning_rate):\n",
        "    \"\"\"Performs one training step (parameter update).\"\"\"\n",
        "    loss_val, grads = jax.value_and_grad(cross_entropy_loss)(params, x_batch, y_batch) # Loss and gradients\n",
        "    params_updated = jax.tree_map( # Update parameters using gradient descent\n",
        "        lambda p, g: p - learning_rate * g, params, grads\n",
        "    )\n",
        "    return loss_val, params_updated # Return updated parameters & loss value\n",
        "\n",
        "# JIT-compile the train_step for speed!\n",
        "train_step_jitted = jax.jit(train_step)"
      ],
      "execution_count": null,
      "outputs": []
    },
    {
      "cell_type": "markdown",
      "metadata": {
        "id": "pWSwColWWHSW"
      },
      "source": [
        "**Explanation:**\n",
        "\n",
        "*   **`def train_step(params, x_batch, y_batch, learning_rate):`**: This function defines a single training step.\n",
        "    *   **`loss_val, grads = jax.value_and_grad(...)`**:  We use `jax.value_and_grad(cross_entropy_loss)` to efficiently compute both the loss value and the gradients of the loss function *with respect to the parameters*.\n",
        "    *   **`params_updated = jax.tree_map(...)`**: We update the model parameters using gradient descent:  `new_params = old_params - learning_rate * gradients`. `jax.tree_map` is used to apply this update to each parameter in our nested parameter dictionary.\n",
        "    *   The function returns the loss value and the updated parameters.\n",
        "*   **`train_step_jitted = jax.jit(train_step)`**: We JIT-compile the `train_step` function using `jax.jit`. This will significantly speed up our training loop."
      ]
    },
    {
      "cell_type": "markdown",
      "metadata": {
        "id": "Tjt5bxS7WHSW"
      },
      "source": [
        "### 🚄 Run the Training Loop\n",
        "\n",
        "Now we have all the pieces to train our neural network! Let's put it all together in a training loop:"
      ]
    },
    {
      "cell_type": "code",
      "metadata": {
        "id": "ur_zhAIaWHSW"
      },
      "source": [
        "num_epochs = 10\n",
        "batch_size = 128\n",
        "learning_rate = 0.01\n",
        "\n",
        "params = initial_params # Start with initial parameters\n",
        "train_losses = [] # To keep track of training loss over epochs\n",
        "val_accuracies = [] # To keep track of validation accuracy over epochs\n",
        "\n",
        "for epoch in range(num_epochs):\n",
        "    start_time = time.time() # Track epoch time\n",
        "    num_train_batches = X_train.shape[0] // batch_size\n",
        "    epoch_loss = [] # Store loss for each batch in an epoch\n",
        "\n",
        "    # Iterate through training batches\n",
        "    for batch_idx in range(num_train_batches):\n",
        "        batch_start = batch_idx * batch_size\n",
        "        batch_end = batch_start + batch_size\n",
        "        x_batch = X_train[batch_start:batch_end]\n",
        "        y_batch = y_train[batch_start:batch_end]\n",
        "\n",
        "        loss_val, params = train_step_jitted( # Call JIT-compiled train step\n",
        "            params, x_batch, y_batch, learning_rate\n",
        "        )\n",
        "        epoch_loss.append(loss_val) # Store batch loss\n",
        "\n",
        "    # Calculate average loss over batches for the epoch\n",
        "    train_loss_epoch = jnp.mean(jnp.array(epoch_loss))\n",
        "    train_losses.append(train_loss_epoch) # Store epoch loss\n",
        "\n",
        "    # Calculate validation accuracy at the end of each epoch\n",
        "    val_accuracy = accuracy(params, X_test, y_test)\n",
        "    val_accuracies.append(val_accuracy)\n",
        "\n",
        "    epoch_time = time.time() - start_time # Epoch duration\n",
        "    print(f\"Epoch {epoch+1}/{num_epochs} | Loss: {train_loss_epoch:.4f} | Val Acc: {val_accuracy:.4f} | Time: {epoch_time:.2f}s\")\n",
        "\n",
        "# --- Plotting --- #\n",
        "\n",
        "# Plotting training loss curve\n",
        "plt.figure(figsize=(10, 4))\n",
        "plt.plot(train_losses)\n",
        "plt.xlabel(\"Epochs\")\n",
        "plt.ylabel(\"Training Loss\")\n",
        "plt.title(\"Training Loss Curve\")\n",
        "plt.grid(True)\n",
        "plt.show()\n",
        "\n",
        "# Plotting validation accuracy curve\n",
        "plt.figure(figsize=(10, 4))\n",
        "plt.plot(val_accuracies)\n",
        "plt.xlabel(\"Epochs\")\n",
        "plt.ylabel(\"Validation Accuracy\")\n",
        "plt.title(\"Validation Accuracy Curve\")\n",
        "plt.grid(True)\n",
        "plt.show()"
      ],
      "execution_count": null,
      "outputs": []
    },
    {
      "cell_type": "markdown",
      "metadata": {
        "id": "WGdNwQbGWHSW"
      },
      "source": [
        "**Explanation:**\n",
        "\n",
        "*   **Hyperparameters:** We set hyperparameters like `num_epochs`, `batch_size`, and `learning_rate`.\n",
        "*   **Initialization:** We start with our `initial_params`.\n",
        "*   **Epoch Loop:** The outer loop iterates through the training epochs.\n",
        "    *   **Batch Iteration:** The inner loop iterates through the training data in batches (mini-batch gradient descent).\n",
        "    *   **`train_step_jitted(...)`**: We call our JIT-compiled `train_step` function to compute the loss and gradients and update parameters for each batch.\n",
        "    *   **Loss and Accuracy Tracking:** We keep track of the training loss and validation accuracy after each epoch for plotting.\n",
        "*   **Plotting:** After training, we plot the training loss and validation accuracy curves to visualize the training progress."
      ]
    },
    {
      "cell_type": "markdown",
      "metadata": {
        "id": "ppMiemOFL0T6"
      },
      "source": [
        "## 🎉 Congratulations! You've Built a Digit Classifier with JAX!\n",
        "\n",
        "In this section, you've successfully:\n",
        "\n",
        "*   Implemented Logistic Regression for binary classification.\n",
        "*   Extended it to Multi-class Classification using Softmax and Cross-Entropy Loss.\n",
        "*   Built and trained a simple Neural Network in JAX using Flax for MNIST digit classification.\n",
        "*   Used Gradient Descent for optimization and evaluated your model's accuracy.\n",
        "\n",
        "You've come a long way! You now have a foundational understanding of supervised machine learning and how to implement models and training loops in JAX.\n",
        "\n",
        "**Next Steps:**\n",
        "\n",
        "*   Explore other practicals in this series to dive deeper into specific ML topics like Bayesian Deep Learning, Large Language Models, and Diffusion Models.\n",
        "*   Experiment further with the MNIST classifier: try different network architectures, optimizers, and regularization techniques to improve performance.\n",
        "*   Start applying JAX and your ML knowledge to your own projects and datasets!"
      ]
    },
    {
      "cell_type": "markdown",
      "source": [],
      "metadata": {
        "id": "3WLp3nr9Q0eo"
      }
    },
    {
      "cell_type": "markdown",
      "metadata": {
        "id": "NewSection-Optax"
      },
      "source": [
        "# Part 5 **[Extra] Introducing Optax: Gradient Processing and Optimization in JAX** (10 minutes) ⏰\n",
        "\n",
        "So far, we've used basic gradient descent to update our model parameters. But in modern machine learning, we often need more sophisticated optimization algorithms like Adam or Momentum to train models effectively and efficiently. Enter **Optax**, a powerful library built for JAX that provides gradient processing and optimization tools!\n",
        "\n",
        "**What is Optax?**\n",
        "\n",
        "Optax is a gradient processing and optimization library designed to work seamlessly with JAX. It offers:\n",
        "\n",
        "*   🛠️ **Flexible Optimizers:** A variety of optimization algorithms like SGD (Stochastic Gradient Descent), Adam, RMSprop, and more, with customizable parameters.\n",
        "*   🔄 **Gradient Transformations:** Tools to manipulate gradients (e.g., clipping, scaling) before applying updates.\n",
        "*   🌟 **Composability:** The ability to chain multiple transformations together (e.g., combining gradient clipping with an optimizer).\n",
        "*   ⚡ **JAX Compatibility:** Fully integrates with JAX's functional programming model and JIT compilation for high performance.\n",
        "\n",
        "In this section, we'll modify our training loop to use Optax's Adam optimizer instead of plain gradient descent, giving our neural network a boost in training efficiency!"
      ]
    },
    {
      "cell_type": "markdown",
      "metadata": {
        "id": "Optax-Why"
      },
      "source": [
        "### Why Use Optax?\n",
        "\n",
        "While our basic gradient descent implementation works, it has limitations:\n",
        "\n",
        "*   **Fixed Step Size:** Gradient descent uses a constant learning rate, which can lead to slow convergence or overshooting.\n",
        "*   **No Momentum:** It doesn’t account for the history of gradients, potentially causing inefficient updates.\n",
        "\n",
        "Optax optimizers like Adam adapt the learning rate for each parameter based on past gradients, often leading to faster and more stable training. Let’s see how to integrate Optax into our workflow."
      ]
    },
    {
      "cell_type": "markdown",
      "metadata": {
        "id": "Optax-Install"
      },
      "source": [
        "### Installing Optax\n",
        "\n",
        "First, ensure Optax is installed in your Colab environment. Run the following cell to install it if needed:"
      ]
    },
    {
      "cell_type": "code",
      "metadata": {
        "id": "Optax-Install-Code"
      },
      "source": [
        "!pip install optax\n",
        "import optax"
      ],
      "execution_count": null,
      "outputs": []
    },
    {
      "cell_type": "markdown",
      "metadata": {
        "id": "Optax-Example"
      },
      "source": [
        "### Using Optax with Our Neural Network\n",
        "\n",
        "Let’s update our training step to use Optax’s Adam optimizer instead of basic gradient descent. We'll integrate it into the `train_step` function we defined earlier."
      ]
    },
    {
      "cell_type": "code",
      "metadata": {
        "id": "Optax-Train-Step"
      },
      "source": [
        "import jax\n",
        "import jax.numpy as jnp\n",
        "import optax\n",
        "\n",
        "# Define the updated training step with Optax\n",
        "def train_step_optax(params, opt_state, x_batch, y_batch, optimizer):\n",
        "    \"\"\"Performs one training step using an Optax optimizer.\n",
        "\n",
        "    Args:\n",
        "        params: Model parameters.\n",
        "        opt_state: Optimizer state (e.g., momentum, moving averages).\n",
        "        x_batch: Input batch.\n",
        "        y_batch: Target batch.\n",
        "        optimizer: Optax optimizer instance.\n",
        "\n",
        "    Returns:\n",
        "        loss_val: Loss value for the batch.\n",
        "        params_updated: Updated model parameters.\n",
        "        opt_state_updated: Updated optimizer state.\n",
        "    \"\"\"\n",
        "    # Compute loss and gradients\n",
        "    loss_val, grads = jax.value_and_grad(cross_entropy_loss)(params, x_batch, y_batch)\n",
        "    # Compute parameter updates using the optimizer\n",
        "    updates, opt_state_updated = optimizer.update(grads, opt_state, params)\n",
        "    # Apply updates to parameters\n",
        "    params_updated = optax.apply_updates(params, updates)\n",
        "    return loss_val, params_updated, opt_state_updated\n",
        "\n",
        "# JIT-compile the training step for speed\n",
        "train_step_optax_jitted = jax.jit(train_step_optax, static_argnums=4)"
      ],
      "execution_count": null,
      "outputs": []
    },
    {
      "cell_type": "markdown",
      "metadata": {
        "id": "Optax-Train-Step-Explain"
      },
      "source": [
        "**Explanation:**\n",
        "\n",
        "*   **`train_step_optax`**: This updated function now takes an `opt_state` (optimizer state) and an `optimizer` instance as arguments, in addition to the previous inputs.\n",
        "    *   **`loss_val, grads = jax.value_and_grad(...)`**: Same as before, we compute the loss and gradients of the loss with respect to the parameters.\n",
        "    *   **`updates, opt_state_updated = optimizer.update(...)`**: The Optax optimizer computes the updates to the parameters based on the gradients and its internal state (e.g., moving averages in Adam). It also returns the updated optimizer state.\n",
        "    *   **`params_updated = optax.apply_updates(...)`**: Apply the computed updates to the parameters to get the new parameter values.\n",
        "    *   **Returns**: We return the loss, updated parameters, and updated optimizer state.\n",
        "*   **`train_step_optax_jitted = jax.jit(...)`**: We JIT-compile this function for performance gains, just like before."
      ]
    },
    {
      "cell_type": "markdown",
      "metadata": {
        "id": "Optax-Train-Loop"
      },
      "source": [
        "### Update the Training Loop with Optax\n",
        "\n",
        "Now let's modify our training loop to use the Optax-based training step. We'll initialize an Adam optimizer and manage its state during training."
      ]
    },
    {
      "cell_type": "code",
      "metadata": {
        "id": "Optax-Train-Loop-Code"
      },
      "source": [
        "import matplotlib.pyplot as plt\n",
        "import time\n",
        "\n",
        "# Hyperparameters\n",
        "num_epochs = 10\n",
        "batch_size = 128\n",
        "learning_rate = 0.001  # Adjusted for Adam (typically smaller than basic GD)\n",
        "\n",
        "# Initialize the optimizer (Adam)\n",
        "optimizer = optax.adam(learning_rate=learning_rate)\n",
        "opt_state = optimizer.init(initial_params)  # Initialize optimizer state with initial parameters\n",
        "\n",
        "# Training loop with Optax\n",
        "params = initial_params  # Start with initial parameters\n",
        "train_losses = []\n",
        "val_accuracies = []\n",
        "\n",
        "for epoch in range(num_epochs):\n",
        "    start_time = time.time()\n",
        "    num_train_batches = X_train.shape[0] // batch_size\n",
        "    epoch_loss = []\n",
        "\n",
        "    # Iterate through training batches\n",
        "    for batch_idx in range(num_train_batches):\n",
        "        batch_start = batch_idx * batch_size\n",
        "        batch_end = batch_start + batch_size\n",
        "        x_batch = X_train[batch_start:batch_end]\n",
        "        y_batch = y_train[batch_start:batch_end]\n",
        "\n",
        "        # Perform training step with Optax\n",
        "        loss_val, params, opt_state = train_step_optax_jitted(\n",
        "            params, opt_state, x_batch, y_batch, optimizer\n",
        "        )\n",
        "        epoch_loss.append(loss_val)\n",
        "\n",
        "    # Calculate average loss for the epoch\n",
        "    train_loss_epoch = jnp.mean(jnp.array(epoch_loss))\n",
        "    train_losses.append(train_loss_epoch)\n",
        "\n",
        "    # Calculate validation accuracy\n",
        "    val_accuracy = accuracy(params, X_test, y_test)\n",
        "    val_accuracies.append(val_accuracy)\n",
        "\n",
        "    epoch_time = time.time() - start_time\n",
        "    print(f\"Epoch {epoch+1}/{num_epochs} | Loss: {train_loss_epoch:.4f} | Val Acc: {val_accuracy:.4f} | Time: {epoch_time:.2f}s\")\n",
        "\n",
        "# Plot training loss\n",
        "plt.figure(figsize=(10, 4))\n",
        "plt.plot(train_losses)\n",
        "plt.xlabel(\"Epochs\")\n",
        "plt.ylabel(\"Training Loss\")\n",
        "plt.title(\"Training Loss Curve with Optax (Adam)\")\n",
        "plt.grid(True)\n",
        "plt.show()\n",
        "\n",
        "# Plot validation accuracy\n",
        "plt.figure(figsize=(10, 4))\n",
        "plt.plot(val_accuracies)\n",
        "plt.xlabel(\"Epochs\")\n",
        "plt.ylabel(\"Validation Accuracy\")\n",
        "plt.title(\"Validation Accuracy Curve with Optax (Adam)\")\n",
        "plt.grid(True)\n",
        "plt.show()"
      ],
      "execution_count": null,
      "outputs": []
    },
    {
      "cell_type": "markdown",
      "metadata": {
        "id": "Optax-Train-Loop-Explain"
      },
      "source": [
        "**Explanation:**\n",
        "\n",
        "*   **`optimizer = optax.adam(learning_rate=learning_rate)`**: We create an Adam optimizer with a specified learning rate (typically smaller than basic gradient descent, e.g., 0.001).\n",
        "*   **`opt_state = optimizer.init(initial_params)`**: Initialize the optimizer’s state (e.g., first and second moment estimates for Adam) based on the initial parameters.\n",
        "*   **Training Loop Changes**:\n",
        "    *   We now pass `opt_state` and `optimizer` to `train_step_optax_jitted`.\n",
        "    *   The function returns the updated `opt_state`, which we reuse in the next iteration to maintain the optimizer’s internal statistics (e.g., momentum).\n",
        "*   **Performance**: Adam often converges faster and more reliably than basic gradient descent, especially for neural networks, due to its adaptive learning rates.\n",
        "\n",
        "**Key Differences from Basic GD:**\n",
        "\n",
        "- Instead of manually subtracting `learning_rate * grads` from parameters, Optax handles the update logic, incorporating momentum and adaptive learning rates.\n",
        "- We manage an additional `opt_state` object, which tracks optimizer-specific variables."
      ]
    },
    {
      "cell_type": "markdown",
      "metadata": {
        "id": "Optax-Benefits"
      },
      "source": [
        "### Benefits of Optax\n",
        "\n",
        "*   **Improved Convergence:** Adaptive optimizers like Adam typically converge faster and more stably than basic gradient descent.\n",
        "*   **Ease of Use:** Switching to a different optimizer (e.g., RMSprop, SGD with momentum) is as simple as changing `optax.adam` to another Optax function.\n",
        "*   **Customization:** You can chain transformations like gradient clipping (`optax.clip`) or learning rate schedules with minimal code changes.\n",
        "\n",
        "**Try It Out!** Experiment with different Optax optimizers (e.g., `optax.sgd`, `optax.rmsprop`) or tweak the learning rate to see how they affect training performance."
      ]
    },
    {
      "cell_type": "markdown",
      "metadata": {
        "id": "Optax-Conclusion"
      },
      "source": [
        "### 🚀 Wrapping Up\n",
        "\n",
        "With Optax, you’ve upgraded your JAX training pipeline to use state-of-the-art optimization techniques! This section introduced:\n",
        "\n",
        "*   The motivation behind Optax and its role in JAX.\n",
        "*   How to integrate an Optax optimizer into a neural network training loop.\n",
        "*   The practical benefits of using adaptive optimizers over basic gradient descent.\n",
        "\n",
        "You’re now equipped to explore more advanced optimization strategies in your ML experiments with JAX and Optax!"
      ]
    },
    {
      "cell_type": "markdown",
      "metadata": {
        "id": "o1ndpYE50BpG"
      },
      "source": [
        "# Feedback\n",
        "\n",
        "Please provide feedback that we can use to improve our practicals in the future."
      ]
    },
    {
      "cell_type": "code",
      "execution_count": null,
      "metadata": {
        "id": "OIZvkhfRz9Jz",
        "cellView": "form"
      },
      "outputs": [],
      "source": [
        "# @title Generate Feedback Form. (Run Cell)\n",
        "from IPython.display import HTML\n",
        "\n",
        "HTML(\n",
        "    \"\"\"\n",
        "<iframe\n",
        "\tsrc=\"https://forms.gle/JRHLXCqDVyw2LqM49\",\n",
        "  width=\"80%\"\n",
        "\theight=\"1200px\" >\n",
        "\tLoading...\n",
        "</iframe>\n",
        "\"\"\"\n",
        ")"
      ]
    }
  ],
  "metadata": {
    "celltoolbar": "scrolled",
    "colab": {
      "provenance": [],
      "collapsed_sections": [
        "n33h9NE9-BkY",
        "foX0uNCo-Bkc",
        "1tBMTGKy-Bke"
      ],
      "toc_visible": true
    },
    "kernelspec": {
      "display_name": "Python 3",
      "language": "python",
      "name": "python3"
    },
    "language_info": {
      "codemirror_mode": {
        "name": "ipython",
        "version": 3
      },
      "file_extension": ".py",
      "mimetype": "text/x-python",
      "name": "python",
      "nbconvert_exporter": "python",
      "pygments_lexer": "ipython3",
      "version": "3.8.10"
    },
    "toc": true
  },
  "nbformat": 4,
  "nbformat_minor": 0
}
