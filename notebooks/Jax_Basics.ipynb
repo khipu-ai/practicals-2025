{
  "cells": [
    {
      "cell_type": "markdown",
      "metadata": {
        "id": "0n--KTVI-BkW"
      },
      "source": [
        "# **JAX Basics: NumPy on Steroids 🦾**\n",
        "\n",
        "Alright, let's dive into JAX! This section will equip you with the foundational JAX knowledge you'll need for the rest of the practicals. Think of JAX as NumPy's cooler, faster cousin, especially when it comes to machine learning.\n",
        "\n",
        "**Why JAX?**\n",
        "\n",
        "JAX is a powerful Python library that turbocharges numerical computation and machine learning.  It's like NumPy but with superpowers:\n",
        "\n",
        "*   🚀 **Blazing Fast:**  JAX uses just-in-time (JIT) compilation to speed up your code, making it run much faster, especially on GPUs and TPUs. Say goodbye to slow loops!\n",
        "*   💡 **Automatic Differentiation:**  JAX can automatically calculate gradients of your functions (using `jax.grad`). This is ESSENTIAL for training neural networks and other ML models, and JAX makes it super easy!\n",
        "*   ✨ **Auto-vectorization & Parallelization:**  JAX can automatically vectorize and parallelize your code across multiple cores or devices (GPUs, TPUs) with minimal effort (using `jax.vmap` and `jax.pmap`).\n",
        "\n",
        "We'll explore these superpowers in this section!"
      ]
    },
    {
      "cell_type": "markdown",
      "metadata": {
        "id": "2JhOquVQ-BkY"
      },
      "source": [
        "<details>\n",
        "  <summary>Dive Deeper: What is JAX Under the Hood?</summary>\n",
        "  <p>\n",
        "      JAX achieves its magic by combining two key technologies:\n",
        "      \n",
        "      *   **Autograd:**  For automatic differentiation (calculating gradients).\n",
        "      *   **XLA (Accelerated Linear Algebra):** For just-in-time compilation and efficient execution, especially on accelerators like GPUs and TPUs.\n",
        "      \n",
        "      These technologies allow JAX to perform numerical computations with incredible speed and flexibility. JAX encourages a **functional programming style**, where functions are pure and transformations are composable, leading to cleaner and more efficient code.\n",
        "  </p>\n",
        "  <p>\n",
        "      While JAX is lower-level than libraries like PyTorch or TensorFlow, its simplicity and powerful primitives make it a favorite for research and for building custom ML systems. For building neural networks, JAX is often used with higher-level libraries like Flax or Haiku, which provide more structure and convenience.\n",
        "  </p>\n",
        "</details>"
      ]
    },
    {
      "cell_type": "markdown",
      "metadata": {
        "id": "7iz1gkPB-BkY"
      },
      "source": [
        "## 2.1 JAX ❤️ NumPy: A Happy Family (10 minutes)\n",
        "\n",
        "Good news! If you already know NumPy, you're in great shape to learn JAX. JAX NumPy (`jax.numpy` or `jnp`) is very similar to NumPy. Most of the NumPy functions you're familiar with work the same way in JAX!\n",
        "\n",
        "Let's explore the similarities and differences."
      ]
    },
    {
      "cell_type": "markdown",
      "metadata": {
        "id": "n33h9NE9-BkY"
      },
      "source": [
        "### Similarities ✅: NumPy Comfort in JAX\n",
        "\n",
        "JAX NumPy aims to be a drop-in replacement for NumPy for many common operations. Let's see some examples:"
      ]
    },
    {
      "cell_type": "code",
      "metadata": {
        "colab": {
          "base_uri": "https://localhost:8080/"
        },
        "id": "IKO1T1-s-BkZ",
        "outputId": "6ad90bb8-88d8-41ef-890a-166073ede786"
      },
      "source": [
        "import numpy as np\n",
        "import jax.numpy as jnp\n",
        "\n",
        "def print_comparison(title, np_result, jax_result):\n",
        "    print(f\"\\n**{title}**\") # Markdown formatting for titles!\n",
        "    print(\"=\" * 40)\n",
        "    print(f\"NumPy: {np_result}\")\n",
        "    print(f\"JAX:   {jax_result}\")\n",
        "    print(\"-\" * 40)\n",
        "\n",
        "# Create arrays for use in examples\n",
        "np_array1, np_array2 = np.array([1, 2, 3]), np.array([4, 5, 6])\n",
        "jax_array1, jax_array2 = jnp.array([1, 2, 3]), jnp.array([4, 5, 6])"
      ],
      "execution_count": null,
      "outputs": [
        {
          "output_type": "stream",
          "name": "stdout",
          "text": [
            "\n",
            "**Element-wise Addition**\n",
            "========================================\n",
            "NumPy: [5 7 9]\n",
            "JAX:   [5 7 9]\n",
            "----------------------------------------\n"
          ]
        }
      ]
    },
    {
      "cell_type": "markdown",
      "metadata": {
        "id": "gxUrb25I-BkZ"
      },
      "source": [
        "#### ➕ Element-wise Addition: `+`\n",
        "\n"
      ]
    },
    {
      "cell_type": "code",
      "metadata": {
        "colab": {
          "base_uri": "https://localhost:8080/"
        },
        "id": "1t8_Lnxm-BkZ",
        "outputId": "cf348b36-b15f-4e6d-91dd-d700d0f6ef45"
      },
      "source": [
        "np_add = np_array1 + np_array2\n",
        "jax_add = jax_array1 + jax_array2\n",
        "print_comparison(\"Element-wise Addition\", np_add, jax_add)"
      ],
      "execution_count": null,
      "outputs": [
        {
          "output_type": "stream",
          "name": "stdout",
          "text": [
            "\n",
            "**Element-wise Addition**\n",
            "========================================\n",
            "NumPy: [5 7 9]\n",
            "JAX:   [5 7 9]\n",
            "----------------------------------------\n"
          ]
        }
      ]
    },
    {
      "cell_type": "markdown",
      "metadata": {
        "id": "b4WUSsBd-Bka"
      },
      "source": [
        "#### 🔪 Indexing and Slicing: `[]`\n",
        "\n",
        "Accessing parts of an array using indices and slices is the same:"
      ]
    },
    {
      "cell_type": "code",
      "metadata": {
        "colab": {
          "base_uri": "https://localhost:8080/"
        },
        "id": "VaANg0E6-Bka",
        "outputId": "86c7562f-55cc-4c5f-cc9d-acf0dff47567"
      },
      "source": [
        "np_slice = np_array1[1:4] # Get elements from index 1 up to (but not including) 4\n",
        "jax_slice = jax_array1[1:4]\n",
        "print_comparison(\"Array Slicing\", np_slice, jax_slice)"
      ],
      "execution_count": null,
      "outputs": [
        {
          "output_type": "stream",
          "name": "stdout",
          "text": [
            "\n",
            "**Array Slicing**\n",
            "========================================\n",
            "NumPy: [2 3]\n",
            "JAX:   [2 3]\n",
            "----------------------------------------\n"
          ]
        }
      ]
    },
    {
      "cell_type": "markdown",
      "metadata": {
        "id": "T2trO_bx-Bka"
      },
      "source": [
        "#### ➡️ Array Concatenation: `.concatenate`\n",
        "\n",
        "Combining arrays is also familiar:"
      ]
    },
    {
      "cell_type": "code",
      "metadata": {
        "colab": {
          "base_uri": "https://localhost:8080/"
        },
        "id": "RXiANPhD-Bka",
        "outputId": "001d31e6-e289-4488-f47c-d01126dcc0cf"
      },
      "source": [
        "np_concat = np.concatenate([np_array1, np_array2])\n",
        "jax_concat = jnp.concatenate([jax_array1, jax_array2])\n",
        "print_comparison(\"Array Concatenation\", np_concat, jax_concat)"
      ],
      "execution_count": null,
      "outputs": [
        {
          "output_type": "stream",
          "name": "stdout",
          "text": [
            "\n",
            "**Array Concatenation**\n",
            "========================================\n",
            "NumPy: [1 2 3 4 5 6]\n",
            "JAX:   [1 2 3 4 5 6]\n",
            "----------------------------------------\n"
          ]
        }
      ]
    },
    {
      "cell_type": "markdown",
      "metadata": {
        "id": "1MH64U9E-Bka"
      },
      "source": [
        "#### ✖️ Matrix Multiplication: `.dot`\n",
        "\n",
        "Matrix multiplication works the same way for linear algebra operations:"
      ]
    },
    {
      "cell_type": "code",
      "metadata": {
        "colab": {
          "base_uri": "https://localhost:8080/"
        },
        "id": "hGv__Yfy-Bkb",
        "outputId": "75b9eb2d-22b2-4be9-d8d5-104fd96ab441"
      },
      "source": [
        "# Create matrices for example\n",
        "np_matrix = np.array([[1, 2], [3, 4]])\n",
        "jax_matrix = jnp.array([[1, 2], [3, 4]])\n",
        "\n",
        "np_matmul = np.dot(np_matrix, np_matrix)\n",
        "jax_matmul = jnp.dot(jax_matrix, jax_matrix)\n",
        "print_comparison(\"Matrix Multiplication\", np_matmul, jax_matmul)"
      ],
      "execution_count": null,
      "outputs": [
        {
          "output_type": "stream",
          "name": "stdout",
          "text": [
            "\n",
            "**Matrix Multiplication**\n",
            "========================================\n",
            "NumPy: [[ 7 10]\n",
            " [15 22]]\n",
            "JAX:   [[ 7 10]\n",
            " [15 22]]\n",
            "----------------------------------------\n"
          ]
        }
      ]
    },
    {
      "cell_type": "markdown",
      "metadata": {
        "id": "fbRVkLYg-Bkb"
      },
      "source": [
        "#### 🧮 Mathematical Operations: `.sin`, `.mean`, etc.\n",
        "\n",
        "Many mathematical functions like `sin`, `cos`, `exp`, `mean`, `sum`, etc., are also available in JAX NumPy and behave similarly to their NumPy counterparts:"
      ]
    },
    {
      "cell_type": "code",
      "metadata": {
        "colab": {
          "base_uri": "https://localhost:8080/",
          "height": 564
        },
        "id": "Jg1bXnJb-Bkb",
        "outputId": "0bdbbb07-893b-4259-80f9-6d6a12f80e81"
      },
      "source": [
        "import matplotlib.pyplot as plt\n",
        "\n",
        "# Generate x values\n",
        "x = np.linspace(0, 2*np.pi, 100)\n",
        "\n",
        "# Calculate sine using NumPy\n",
        "y_np = np.sin(x)\n",
        "\n",
        "# Calculate sine using JAX\n",
        "y_jax = jnp.sin(x)\n",
        "\n",
        "# Plotting (same plotting code for both)\n",
        "plt.figure(figsize=(10, 6))\n",
        "plt.plot(x, y_np, label='NumPy sin(x)', color='blue')\n",
        "plt.plot(x, y_jax, label='JAX sin(x)', color='red', linestyle='--')\n",
        "plt.title('Sine Function: NumPy vs JAX')\n",
        "plt.xlabel('x')\n",
        "plt.ylabel('sin(x)')\n",
        "plt.legend()\n",
        "plt.grid(True)\n",
        "plt.show()"
      ],
      "execution_count": null,
      "outputs": [
        {
          "output_type": "display_data",
          "data": {
            "text/plain": [
              "<Figure size 1000x600 with 1 Axes>"
            ],
            "image/png": "[encoded data removed]"
          },
          "metadata": {}
        }
      ]
    },
    {
      "cell_type": "markdown",
      "metadata": {
        "id": "OE5dlnwd-Bkb"
      },
      "source": [
        "### Differences ❌: Where JAX and NumPy Diverge\n",
        "\n",
        "While JAX NumPy is designed to be very similar to NumPy, there are some key differences you need to be aware of, especially when writing ML code."
      ]
    },
    {
      "cell_type": "markdown",
      "metadata": {
        "id": "yH9NJo5Q-Bkb"
      },
      "source": [
        "#### 1. 🚫 Immutability: JAX Arrays Can't Be Changed in Place\n",
        "\n",
        "Unlike NumPy arrays, JAX arrays are **immutable**. This means once you create a JAX array, you cannot modify its values directly.  Trying to change an element in-place will raise an error."
      ]
    },
    {
      "cell_type": "markdown",
      "metadata": {
        "id": "KOT2AOyi-Bkb"
      },
      "source": [
        "Let's see what happens when we try to change the first element of a NumPy array:"
      ]
    },
    {
      "cell_type": "code",
      "metadata": {
        "colab": {
          "base_uri": "https://localhost:8080/"
        },
        "id": "PLMDTe2O-Bkb",
        "outputId": "466785cd-21bc-4efe-af9b-a3c432d09947"
      },
      "source": [
        "# NumPy: Mutable Arrays (Changes are allowed)\n",
        "x_np = np.arange(10)\n",
        "print(f\"Original NumPy array: {x_np}\")\n",
        "\n",
        "# Change the first element of x_np\n",
        "x_np[0] = 10  # In-place modification - this works!\n",
        "print(f\"Modified NumPy array: {x_np}\") # NumPy array is changed"
      ],
      "execution_count": null,
      "outputs": [
        {
          "output_type": "stream",
          "name": "stdout",
          "text": [
            "Original NumPy array: [0 1 2 3 4 5 6 7 8 9]\n",
            "Modified NumPy array: [10  1  2  3  4  5  6  7  8  9]\n"
          ]
        }
      ]
    },
    {
      "cell_type": "markdown",
      "metadata": {
        "id": "z6YumzOh-Bkb"
      },
      "source": [
        "Now, let's try the same with a JAX array:"
      ]
    },
    {
      "cell_type": "code",
      "metadata": {
        "colab": {
          "base_uri": "https://localhost:8080/"
        },
        "id": "wm3WjwyK-Bkb",
        "outputId": "8bdd85c4-2cbf-49b3-ddf2-246c9cd6116a"
      },
      "source": [
        "# JAX: Immutable Arrays (Changes are NOT allowed)\n",
        "try:\n",
        "    x_jax = jnp.arange(10)\n",
        "    print(f\"Original JAX array: {x_jax}\")\n",
        "    x_jax[0] = 10  # In-place modification - this will cause an error!\n",
        "except Exception as e:\n",
        "    print(f\"Error: {e}\") # JAX array remains unchanged"
      ],
      "execution_count": null,
      "outputs": [
        {
          "output_type": "stream",
          "name": "stdout",
          "text": [
            "Original JAX array: [0 1 2 3 4 5 6 7 8 9]\n",
            "Error: '<class 'jaxlib.xla_extension.ArrayImpl'>' object does not support item assignment. JAX arrays are immutable. Instead of ``x[idx] = y``, use ``x = x.at[idx].set(y)`` or another .at[] method: https://jax.readthedocs.io/en/latest/_autosummary/jax.numpy.ndarray.at.html\n"
          ]
        }
      ]
    },
    {
      "cell_type": "markdown",
      "metadata": {
        "id": "oKr7hd8X-Bkb"
      },
      "source": [
        "See? It fails!  JAX throws an error because it doesn't allow in-place modifications.\n",
        "\n",
        "**Updating JAX Arrays Immutably:**\n",
        "\n",
        "To update JAX arrays, you use special \"functional update\" methods like `.at[index].set(value)`. These methods don't modify the original array; instead, they return a *new*, updated copy of the array."
      ]
    },
    {
      "cell_type": "code",
      "metadata": {
        "colab": {
          "base_uri": "https://localhost:8080/"
        },
        "id": "BtbGmEdB-Bkb",
        "outputId": "a574edb8-2a0e-4937-de4c-1c7a13ad6a2b"
      },
      "source": [
        "x_jax = jnp.arange(10)\n",
        "print(f\"Original JAX array:  {x_jax}\")\n",
        "\n",
        "new_x_jax = x_jax.at[0].set(10) # Creates a *new* array with the change\n",
        "print(f\"New JAX array (modified): {new_x_jax}\") # 'new_x_jax' is modified\n",
        "print(f\"Original JAX array (unchanged): {x_jax}\") # 'x_jax' is still the same"
      ],
      "execution_count": null,
      "outputs": [
        {
          "output_type": "stream",
          "name": "stdout",
          "text": [
            "Original JAX array:  [0 1 2 3 4 5 6 7 8 9]\n",
            "New JAX array (modified): [10  1  2  3  4  5  6  7  8  9]\n",
            "Original JAX array (unchanged): [0 1 2 3 4 5 6 7 8 9]\n"
          ]
        }
      ]
    },
    {
      "cell_type": "markdown",
      "metadata": {
        "id": "MpskPWSy-Bkc"
      },
      "source": [
        "**Key Takeaway:**  Remember to use functional updates like `.at[].set()` when you need to modify JAX arrays. Functional programming is a core principle in JAX and enables its powerful transformations."
      ]
    },
    {
      "cell_type": "markdown",
      "metadata": {
        "id": "-mlbbSov-Bkc"
      },
      "source": [
        "#### 2. 🎲 Explicit Randomness: JAX Makes You Manage Randomness\n",
        "\n",
        "JAX handles random number generation differently than NumPy. In JAX, randomness is **explicit**.  You need to manage random \"keys\" to control random number generation, making your code more reproducible and predictable."
      ]
    },
    {
      "cell_type": "markdown",
      "metadata": {
        "id": "DUNnPKaR-Bkc"
      },
      "source": [
        "Let's compare NumPy's implicit randomness to JAX's explicit approach."
      ]
    },
    {
      "cell_type": "code",
      "metadata": {
        "colab": {
          "base_uri": "https://localhost:8080/"
        },
        "id": "veZRdBhg-Bkc",
        "outputId": "20cb3d1c-5cbb-4171-a942-d90fbe1fc63c"
      },
      "source": [
        "import numpy as np\n",
        "import jax.numpy as jnp\n",
        "from jax import random\n",
        "\n",
        "# NumPy: Implicit Randomness (Global Seed)\n",
        "np.random.seed(0) # Set seed globally\n",
        "np_rand = np.random.rand(3) # Generate random numbers\n",
        "print(f\"NumPy Random: {np_rand}\")\n",
        "\n",
        "# JAX: Explicit Randomness (Using Keys)\n",
        "key = random.PRNGKey(0) # Create a random key\n",
        "jax_rand = random.uniform(key, (3,)) # Pass key to random function\n",
        "print(f\"JAX Random:   {jax_rand}\")"
      ],
      "execution_count": null,
      "outputs": [
        {
          "output_type": "stream",
          "name": "stdout",
          "text": [
            "NumPy Random: [0.5488135  0.71518937 0.60276338]\n",
            "JAX Random:   [0.9653214  0.31468165 0.63302994]\n"
          ]
        }
      ]
    },
    {
      "cell_type": "markdown",
      "metadata": {
        "id": "ZGWl42cy-Bkc"
      },
      "source": [
        "**Explanation:**\n",
        "\n",
        "*   **NumPy:** NumPy uses a global random number generator. You set the seed once using `np.random.seed()`, and subsequent calls to NumPy random functions will use that seed implicitly.\n",
        "*   **JAX:** JAX uses explicit random keys. You create a key using `random.PRNGKey()` and then explicitly pass that key to each JAX random function (like `random.uniform`)."
      ]
    },
    {
      "cell_type": "markdown",
      "metadata": {
        "id": "uzyyjLFY-Bkc"
      },
      "source": [
        "**Generating Multiple Sets of Random Numbers in JAX:**\n",
        "\n",
        "If you need multiple sets of independent random numbers in JAX, you must **split** the key each time you need randomness. This ensures that each random operation gets a fresh, independent source of randomness."
      ]
    },
    {
      "cell_type": "code",
      "metadata": {
        "colab": {
          "base_uri": "https://localhost:8080/"
        },
        "id": "gOQXTo9U-Bkc",
        "outputId": "947b7d97-d64c-467c-dccd-1929d364fbc8"
      },
      "source": [
        "import numpy as np\n",
        "import jax.numpy as jnp\n",
        "from jax import random\n",
        "\n",
        "# NumPy: Multiple Random Sets (Implicit - can be less reproducible in complex code)\n",
        "np.random.seed(0)\n",
        "np_rand_set1 = np.random.rand(3)\n",
        "np_rand_set2 = np.random.rand(3)\n",
        "print(f\"NumPy Random Set 1: {np_rand_set1}\")\n",
        "print(f\"NumPy Random Set 2: {np_rand_set2}\")\n",
        "\n",
        "# JAX: Multiple Random Sets (Explicit and Reproducible)\n",
        "key = random.PRNGKey(0)\n",
        "\n",
        "# Split the key to get two independent subkeys\n",
        "key, subkey1 = random.split(key) # key is updated!\n",
        "key, subkey2 = random.split(key) # key is updated again!\n",
        "\n",
        "jax_rand_set1 = random.uniform(subkey1, (3,)) # Use subkey1\n",
        "jax_rand_set2 = random.uniform(subkey2, (3,)) # Use subkey2\n",
        "\n",
        "print(f\"JAX Random Set 1:   {jax_rand_set1}\")\n",
        "print(f\"JAX Random Set 2:   {jax_rand_set2}\")"
      ],
      "execution_count": null,
      "outputs": [
        {
          "output_type": "stream",
          "name": "stdout",
          "text": [
            "NumPy Random Set 1: [0.5488135  0.71518937 0.60276338]\n",
            "NumPy Random Set 2: [0.54488318 0.4236548  0.64589411]\n",
            "JAX Random Set 1:   [0.87241435 0.11105156 0.27708054]\n",
            "JAX Random Set 2:   [0.47366    0.5662228  0.88060236]\n"
          ]
        }
      ]
    },
    {
      "cell_type": "markdown",
      "metadata": {
        "id": "TIDNiBvq-Bkc"
      },
      "source": [
        "**Key Takeaway:** JAX's explicit randomness with keys might seem a bit more verbose at first, but it's crucial for reproducibility, especially in complex ML experiments. It gives you fine-grained control over random number generation.\n",
        "\n",
        "If you want to delve deeper into JAX's random number generation, check out the resources mentioned earlier or the [official JAX documentation on randomness](https://jax.readthedocs.io/en/latest/jax-101/05-random-numbers.html)."
      ]
    },
    {
      "cell_type": "markdown",
      "metadata": {
        "id": "foX0uNCo-Bkc"
      },
      "source": [
        "## 2.2 Core JAX Primitives: `jit` and `grad` (10 minutes)\n",
        "\n",
        "Now, let's explore two of JAX's most powerful features (primitives): `jit` and `grad`. These are the building blocks for writing high-performance ML code in JAX."
      ]
    },
    {
      "cell_type": "markdown",
      "metadata": {
        "id": "T8rV76NK-Bkd"
      },
      "source": [
        "### `jit` - Speed Boost with Just-In-Time Compilation 🚀\n",
        "\n",
        "**`jax.jit`** (Just-In-Time compilation) is your secret weapon for making JAX code run FAST. It compiles and caches your Python functions, so they execute super-efficiently using XLA, especially on accelerators like GPUs and TPUs.\n",
        "\n",
        "**How `jit` Works:**\n",
        "\n",
        "`jit` takes your Python function and transforms it into a compiled version that's optimized for your hardware. The first time you run a jitted function, JAX compiles it (this might take a bit longer initially). But subsequent calls are much faster because JAX reuses the compiled version from the cache."
      ]
    },
    {
      "cell_type": "code",
      "metadata": {
        "colab": {
          "base_uri": "https://localhost:8080/"
        },
        "id": "f1kP7KhO-Bkd",
        "outputId": "c33c93f0-6c68-4664-94dc-168217d61b89"
      },
      "source": [
        "import jax\n",
        "import jax.numpy as jnp\n",
        "import time\n",
        "\n",
        "# Define a simple function\n",
        "def matmul_sum(a, b):\n",
        "    matmul =  jnp.matmul(a, b)\n",
        "    sum = jnp.sum(matmul, axis=0)\n",
        "    return sum\n",
        "\n",
        "# JIT compile the function\n",
        "fast_add = jax.jit(matmul_sum)\n",
        "\n",
        "# Example arrays\n",
        "N = 5\n",
        "x = jnp.arange(N**2).reshape(N,N)\n",
        "y = jnp.arange(N**2).reshape(N,N) + N**2\n",
        "\n",
        "# --- Timing Comparison ---\n",
        "\n",
        "print(\"--- Without JIT --- \")\n",
        "start_time = time.time()\n",
        "result_slow = matmul_sum(x, y)\n",
        "end_time = time.time()\n",
        "print(f\"Result: {result_slow}\")\n",
        "print(f\"Time taken (no jit): {end_time - start_time:.4f} seconds\\n\")\n",
        "\n",
        "print(\"--- With JIT --- \")\n",
        "result_fast = fast_add(x, y) # First call - compilation happens here\n",
        "\n",
        "start_time = time.time()\n",
        "result_fast = fast_add(x, y) # Subsequent calls are faster\n",
        "end_time = time.time()\n",
        "print(f\"Result: {result_fast}\")\n",
        "print(f\"Time taken (jit): {end_time - start_time:.4f} seconds\")"
      ],
      "execution_count": null,
      "outputs": [
        {
          "output_type": "stream",
          "name": "stdout",
          "text": [
            "--- Without JIT --- \n",
            "Result: [10750 11050 11350 11650 11950]\n",
            "Time taken (no jit): 0.0011 seconds\n",
            "\n",
            "--- With JIT --- \n",
            "Result: [10750 11050 11350 11650 11950]\n",
            "Time taken (jit): 0.0001 seconds\n"
          ]
        }
      ]
    },
    {
      "cell_type": "markdown",
      "metadata": {
        "id": "p8WOY1PE-Bkd"
      },
      "source": [
        "**Observe the speed difference!** The jitted version runs much faster, especially on subsequent calls, thanks to compilation and caching.\n",
        "\n",
        "**Important Note:**  `jit` works best with **pure functions**. Pure functions are functions that:\n",
        "\n",
        "*   Always return the same output for the same inputs (no side effects).\n",
        "*   Don't rely on or modify any external state outside their scope.\n",
        "\n",
        "JAX functions are generally expected to be pure and functional for best performance and predictability."
      ]
    },
    {
      "cell_type": "markdown",
      "metadata": {
        "id": "ooFwh_Ju-Bkd"
      },
      "source": [
        "### `grad` - Automatic Differentiation: Your ML Superpower ✨\n",
        "\n",
        "**`jax.grad`** is the automatic differentiation (autodiff) workhorse in JAX. It lets you compute gradients of Python and NumPy functions with ease. Gradients are the heart of training ML models, and JAX makes calculating them a breeze!\n",
        "\n",
        "**How `grad` Works:**\n",
        "\n",
        "`grad(f)` takes a function `f` as input and returns a *new* function that computes the gradient of `f`. If `f` is a mathematical function \\(f\\), then `grad(f)` is like its derivative \\(f'\\). Calling `grad(f)(x)` gives you the gradient of \\(f\\) evaluated at point \\(x\\)."
      ]
    },
    {
      "cell_type": "code",
      "metadata": {
        "colab": {
          "base_uri": "https://localhost:8080/"
        },
        "id": "GIxsRu1S-Bkd",
        "outputId": "c0aeb295-1121-4dc2-a775-3d4bbc0798cd"
      },
      "source": [
        "import jax\n",
        "import jax.numpy as jnp\n",
        "\n",
        "# Define a function (e.g., square function)\n",
        "def square(x):\n",
        "    return x ** 2\n",
        "\n",
        "# Get the gradient function using jax.grad\n",
        "grad_square = jax.grad(square)\n",
        "\n",
        "# Evaluate the gradient at x = 3.0\n",
        "x = 3.0\n",
        "gradient_at_x = grad_square(x)\n",
        "print(f\"Gradient of square(x) at x = {x}: {gradient_at_x}\") # Should be close to 6.0"
      ],
      "execution_count": null,
      "outputs": [
        {
          "output_type": "stream",
          "name": "stdout",
          "text": [
            "Gradient of square(x) at x = 3.0: 6.0\n"
          ]
        }
      ]
    },
    {
      "cell_type": "markdown",
      "metadata": {
        "id": "8jewWme0-Bkd"
      },
      "source": [
        "**Intuition:** Gradients tell you the direction of the steepest ascent of a function. In ML, we use gradients to find the direction to *minimize* our loss function (error). Gradient descent and related optimization algorithms use gradients to iteratively update model parameters and reduce loss."
      ]
    },
    {
      "cell_type": "markdown",
      "metadata": {
        "id": "oyymCyGr-Bkd"
      },
      "source": [
        "**Key Takeaway:** `jax.grad` is incredibly powerful. It allows you to automatically compute gradients of even complex Python functions, which is essential for training neural networks without manual differentiation!"
      ]
    },
    {
      "cell_type": "markdown",
      "metadata": {
        "id": "1tBMTGKy-Bke"
      },
      "source": [
        "## 2.3 Auto-vectorization - `vmap` (Bonus - Optional, 5 minutes)\n",
        "\n",
        "**`jax.vmap`** (Vectorizing Map) is another JAX superpower. It automatically vectorizes your functions, allowing you to efficiently apply a function to batches of data without writing explicit loops. This is crucial for performance in ML, where we often process data in batches."
      ]
    },
    {
      "cell_type": "markdown",
      "metadata": {
        "id": "HJgkmKNp-Bke"
      },
      "source": [
        "**Example: Vectorizing the `square` function:**"
      ]
    },
    {
      "cell_type": "code",
      "metadata": {
        "colab": {
          "base_uri": "https://localhost:8080/"
        },
        "id": "YDadaT4P-Bke",
        "outputId": "3cb1982a-0c67-4d6c-8bc9-b1a261eab81a"
      },
      "source": [
        "import jax\n",
        "import jax.numpy as jnp\n",
        "\n",
        "# Our simple square function (operates on a single number)\n",
        "def square(x):\n",
        "    return x ** 2\n",
        "\n",
        "# Vectorize 'square' to work on batches using vmap\n",
        "vectorized_square = jax.vmap(square) # Create a batched version\n",
        "\n",
        "# Input batch of numbers\n",
        "x_batch = jnp.array([1.0, 2.0, 3.0])\n",
        "\n",
        "# Apply vectorized function to the batch\n",
        "squared_batch = vectorized_square(x_batch)\n",
        "print(f\"Squared batch: {squared_batch}\")"
      ],
      "execution_count": null,
      "outputs": [
        {
          "output_type": "stream",
          "name": "stdout",
          "text": [
            "Squared batch: [1. 4. 9.]\n"
          ]
        }
      ]
    },
    {
      "cell_type": "markdown",
      "metadata": {
        "id": "5_IXE10B-Bke"
      },
      "source": [
        "**`vmap` Magic:** `vmap(square)` takes the `square` function (which works on single numbers) and automatically creates `vectorized_square`, which can now process entire batches (arrays) of numbers efficiently.\n",
        "\n",
        "**Benefit:** Without `vmap`, you'd have to write explicit loops to process batches, which is slower and less concise. `vmap` does the looping (vectorization) for you under the hood, making your code cleaner and faster."
      ]
    },
    {
      "cell_type": "markdown",
      "metadata": {
        "id": "wjIPcwsZ-Bke"
      },
      "source": [
        "**Key Takeaway:** `jax.vmap` is your friend for efficient batch processing in JAX. It eliminates the need for manual loops and leverages JAX's performance optimizations."
      ]
    },
    {
      "cell_type": "markdown",
      "metadata": {
        "id": "eifgf7oA-Bke"
      },
      "source": [
        "### 🎉 Congratulations! You've Mastered JAX Basics!\n",
        "\n",
        "You've now got a solid foundation in JAX, covering:\n",
        "\n",
        "*   NumPy Compatibility\n",
        "*   Immutability (and functional updates)\n",
        "*   Explicit Randomness with Keys\n",
        "*   `jit` for Speed\n",
        "*   `grad` for Automatic Differentiation\n",
        "*   `vmap` for Auto-vectorization (Bonus)\n",
        "\n",
        "With these JAX primitives in your toolkit, you're well-prepared to tackle more advanced ML tasks in the following practicals. Let's move on to Part 3 to build and train your first neural network!"
      ]
    },
    {
      "cell_type": "markdown",
      "source": [],
      "metadata": {
        "id": "mu23WSF-Lkb_"
      }
    },
    {
      "cell_type": "markdown",
      "metadata": {
        "id": "5XqnP9-8ElBD"
      },
      "source": [
        "## 2.4 **Advanced:** Building and Training a Neural Network in JAX with Flax (20 minutes) ⏰\n",
        "\n",
        "Let's put our JAX knowledge to work and build a simple neural network for classification! We'll use Flax, a popular neural network library for JAX, to make things easier. We'll train this network to classify handwritten digits from the MNIST dataset."
      ]
    },
    {
      "cell_type": "code",
      "source": [
        "import flax.linen as nn\n",
        "import jax\n",
        "import jax.numpy as jnp\n",
        "\n",
        "# download Mnist and store it at ~/scikit_learn_data for offline use\n",
        "from sklearn.datasets import fetch_openml\n",
        "X, y = fetch_openml('mnist_784', version=1, return_X_y=True, as_frame=False)"
      ],
      "metadata": {
        "id": "pe6TWw6hFeXq"
      },
      "execution_count": null,
      "outputs": []
    },
    {
      "cell_type": "markdown",
      "metadata": {
        "id": "Umu5VgnbElBF"
      },
      "source": [
        "### 🧱 Define the Neural Network Architecture with Flax Linen **[exercise]**\n",
        "\n",
        "We'll create a simple feedforward neural network with two hidden layers using Flax Linen's `nn.Module`."
      ]
    },
    {
      "cell_type": "code",
      "metadata": {
        "id": "YcFEekmBElBF"
      },
      "source": [
        "class SimpleClassifier(nn.Module):\n",
        "    num_classes: int # Output size - number of classes for classification\n",
        "\n",
        "    @nn.compact # Linen decorator to indicate compact module definition\n",
        "    def __call__(self, x): # Flax modules are classes with a __call__ method\n",
        "        # Flatten the input image to a vector (784 features)\n",
        "        x = x.reshape((x.shape[0], -1)) # [batch_size, 28*28]\n",
        "\n",
        "        # Hidden layer 1: Dense (linear) layer followed by ReLU activation\n",
        "        x = nn.Dense(features=128)(x) # Linear transformation\n",
        "        x = nn.relu(x) # Apply ReLU activation function\n",
        "\n",
        "        # Hidden layer 2: Another Dense layer with ReLU\n",
        "        x = # ... your code here\n",
        "        x = # ... your code here\n",
        "\n",
        "        # Output layer: Dense layer to produce logits for each class\n",
        "        x = nn.Dense(features=self.num_classes)(x) # Linear layer, no activation\n",
        "        return x # Output logits (unnormalized probabilities)"
      ],
      "execution_count": null,
      "outputs": []
    },
    {
      "cell_type": "markdown",
      "metadata": {
        "id": "_dtiehkzElBG"
      },
      "source": [
        "**Explanation:**\n",
        "\n",
        "*   **`class SimpleClassifier(nn.Module):`**: We define our neural network as a class inheriting from `flax.linen.Module`.\n",
        "*   **`num_classes: int`**: This line defines a \"parameter\" for our module, specifying the number of output classes (10 for MNIST digits).\n",
        "*   **`@nn.compact`**: This decorator tells Flax Linen to optimize the module definition for conciseness.\n",
        "*   **`def __call__(self, x):`**: The `__call__` method defines the forward pass of our network. It takes the input `x` (an image batch) and processes it through the layers.\n",
        "*   **`x = x.reshape(...)`**: We flatten the 28x28 images into vectors of size 784, suitable as input to dense layers.\n",
        "*   **`nn.Dense(features=...)`**: These are fully connected (dense) layers. Each `nn.Dense` layer performs a linear transformation (matrix multiplication and bias addition).\n",
        "*   **`nn.relu(x)`**:  ReLU (Rectified Linear Unit) activation function is applied after each hidden dense layer to introduce non-linearity.\n",
        "*   **Output Layer:** The final `nn.Dense(features=self.num_classes)` layer produces the output logits. **No activation function is applied here** because we want the raw logits as input to our loss function (cross-entropy)."
      ]
    },
    {
      "cell_type": "markdown",
      "metadata": {
        "id": "wGYubENsElBG"
      },
      "source": [
        "### ⚙️ Initialize Parameters\n",
        "\n",
        "Before training, we need to initialize our model's parameters (weights and biases). We'll use Flax's `model.init` to do this.\n",
        "\n",
        "Note `model.init` takes an example input to figure out the internal shapes and computational graph of the model:"
      ]
    },
    {
      "cell_type": "code",
      "metadata": {
        "id": "gGTBpMh3ElBG"
      },
      "source": [
        "input_shape = (-1, 28, 28, 1) # Shape of MNIST images (batch_size, height, width, channels)\n",
        "num_classes = 10 # MNIST digits 0-9\n",
        "model = SimpleClassifier(num_classes=num_classes) # Create an instance of our model\n",
        "\n",
        "key = jax.random.PRNGKey(0) # Random key for initialization\n",
        "dummy_input = jnp.ones(input_shape) # Dummy input with the correct shape\n",
        "\n",
        "# Initialize parameters (variables in Flax)\n",
        "initial_params = model.init(key, dummy_input) # Get initial parameter values\n",
        "\n",
        "print(initial_params) # Print the initialized parameters (nested dictionary)"
      ],
      "execution_count": null,
      "outputs": []
    },
    {
      "cell_type": "markdown",
      "metadata": {
        "id": "vNgHa8JeElBG"
      },
      "source": [
        "**Explanation:**\n",
        "\n",
        "*   **`input_shape = (-1, 28, 28, 1)`**: We define the expected shape of our input images. The `-1` indicates a batch dimension (which can be of any size), followed by image dimensions (28x28 pixels) and channels (1 for grayscale).\n",
        "*   **`model = SimpleClassifier(num_classes=num_classes)`**: We create an instance of our `SimpleClassifier` model, telling it we have 10 output classes.\n",
        "*   **`key = jax.random.PRNGKey(0)`**: We create a random key for parameter initialization.\n",
        "*   **`dummy_input = jnp.ones(input_shape)`**: We create a dummy input tensor with the correct shape. JAX needs this to infer the shapes of the weights and biases in our network.\n",
        "*   **`initial_params = model.init(key, dummy_input)`**: This is where the magic happens! `model.init` uses the random key and dummy input to initialize the parameters of our network. The result, `initial_params`, is a nested dictionary containing the weights and biases for each layer."
      ]
    },
    {
      "cell_type": "markdown",
      "metadata": {
        "id": "Wc724zufElBG"
      },
      "source": [
        "### 🔮 Define the Forward Pass (Prediction) Function  **[exercise]**\n",
        "\n",
        "Now, let's create a function for making predictions with our model. This function will take the parameters and input data and run the forward pass through the network:"
      ]
    },
    {
      "cell_type": "code",
      "metadata": {
        "id": "2CQMthwZElBG"
      },
      "source": [
        "# Define the forward pass function\n",
        "def forward_pass(params, x):\n",
        "    logits = model.apply(params, x) # Apply the model, get logits\n",
        "    # Convert logits to probabilities using softmax.\n",
        "    # Hint: use nn.softmax, pay attention to which axis to compute softmax over\n",
        "    probs = # ... your code here\n",
        "    return probs # Return probability distribution over classes\n"
      ],
      "execution_count": null,
      "outputs": []
    },
    {
      "cell_type": "markdown",
      "metadata": {
        "id": "CsqsbwKoElBG"
      },
      "source": [
        "#### Explanation: (try not to peek)\n"
      ]
    },
    {
      "cell_type": "markdown",
      "source": [
        "\n",
        "*   **`def forward_pass(params, x):`**: This function takes the model parameters (`params`) and input data (`x`) as arguments.\n",
        "*   **`logits = model.apply(params, x)`**: We use `model.apply` to perform the forward pass through our network, using the provided parameters and input `x`. This gives us the raw output of the network, called \"logits\".\n",
        "*   **`probs = nn.softmax(logits, axis=-1)`**: We apply the softmax function to the logits to convert them into probabilities. Softmax ensures that the outputs sum to 1 and represent a valid probability distribution across the classes. `axis=-1` applies softmax along the class dimension.\n"
      ],
      "metadata": {
        "id": "Iipq543lHGn6"
      }
    },
    {
      "cell_type": "markdown",
      "metadata": {
        "id": "vwLB7mwgElBH"
      },
      "source": [
        "### 📉 Define the Loss Function\n",
        "\n",
        "We'll use the cross-entropy loss, which is commonly used for multi-class classification. We'll also define a function to calculate accuracy, which is a more interpretable metric for evaluating our classifier."
      ]
    },
    {
      "cell_type": "code",
      "metadata": {
        "id": "8awM1ONnElBH"
      },
      "source": [
        "# Loss function (Cross-entropy loss for classification)\n",
        "def cross_entropy_loss(params, x_batch, y_batch):\n",
        "    probs = forward_pass(params, x_batch) # Get predictions (probabilities)\n",
        "    log_probs = jnp.log(probs) # Take the logarithm of probabilities\n",
        "    one_hot_targets = jax.nn.one_hot(y_batch, num_classes=num_classes) # One-hot encode targets\n",
        "    return -jnp.mean(jnp.sum(one_hot_targets * log_probs, axis=-1)) # Cross-entropy loss\n",
        "\n",
        "# Accuracy metric\n",
        "def accuracy(params, x_batch, y_batch):\n",
        "    preds = forward_pass(params, x_batch) # Get predictions\n",
        "    predicted_classes = jnp.argmax(preds, axis=-1) # Get class with highest probability\n",
        "    return jnp.mean(predicted_classes == y_batch) # Calculate accuracy"
      ],
      "execution_count": null,
      "outputs": []
    },
    {
      "cell_type": "markdown",
      "metadata": {
        "id": "xnqi9h6-ElBH"
      },
      "source": [
        "**Explanation:**\n",
        "\n",
        "*   **`cross_entropy_loss(params, x_batch, y_batch)`**: This function calculates the cross-entropy loss for a batch of data.\n",
        "    *   It uses `forward_pass` to get the probability predictions from our model.\n",
        "    *   It converts the integer labels `y_batch` into one-hot encoded vectors using `jax.nn.one_hot`.\n",
        "    *   It computes the cross-entropy loss using standard formulas and returns the *mean* loss over the batch.\n",
        "*   **`accuracy(params, x_batch, y_batch)`**: This function calculates the accuracy of our model on a batch of data.\n",
        "    *   It uses `forward_pass` to get predictions.\n",
        "    *   `jnp.argmax(preds, axis=-1)`:  Finds the class with the highest probability for each sample in the batch (giving us the predicted class labels).\n",
        "    *   `jnp.mean(predicted_classes == y_batch)`:  Compares the predicted classes to the true labels (`y_batch`) and calculates the mean accuracy (fraction of correct predictions)."
      ]
    },
    {
      "cell_type": "markdown",
      "metadata": {
        "id": "KE95-YDPElBH"
      },
      "source": [
        "### 🏋️‍♀️ Define the Training Loop (using Gradient Descent)\n",
        "\n",
        "Now we'll write the training loop using gradient descent to optimize our model parameters.\n",
        "\n",
        "We'll use `jax.value_and_grad`, which is similar to `jax.grad` but returns the value of the function together with the grad, and `jax.jit` to speed up the training step."
      ]
    },
    {
      "cell_type": "code",
      "metadata": {
        "id": "7E_MpXADElBH"
      },
      "source": [
        "def train_step(params, x_batch, y_batch, learning_rate):\n",
        "    \"\"\"Performs one training step (parameter update).\"\"\"\n",
        "    loss_val, grads = jax.value_and_grad(cross_entropy_loss)(params, x_batch, y_batch) # Loss and gradients\n",
        "    params_updated = jax.tree_map( # Update parameters using gradient descent\n",
        "        lambda p, g: p - learning_rate * g, params, grads\n",
        "    )\n",
        "    return loss_val, params_updated # Return updated parameters & loss value\n",
        "\n",
        "# JIT-compile the train_step for speed!\n",
        "train_step_jitted = jax.jit(train_step)"
      ],
      "execution_count": null,
      "outputs": []
    },
    {
      "cell_type": "markdown",
      "metadata": {
        "id": "E-NI1gGvElBH"
      },
      "source": [
        "**Explanation:**\n",
        "\n",
        "*   **`def train_step(params, x_batch, y_batch, learning_rate):`**: This function defines a single training step.\n",
        "    *   **`loss_val, grads = jax.value_and_grad(...)`**:  We use `jax.value_and_grad(cross_entropy_loss)` to efficiently compute both the loss value and the gradients of the loss function *with respect to the parameters*.\n",
        "    *   **`params_updated = jax.tree_map(...)`**: We update the model parameters using gradient descent:  `new_params = old_params - learning_rate * gradients`. `jax.tree_map` is used to apply this update to each parameter in our nested parameter dictionary.\n",
        "    *   The function returns the loss value and the updated parameters.\n",
        "*   **`train_step_jitted = jax.jit(train_step)`**: We JIT-compile the `train_step` function using `jax.jit`. This will significantly speed up our training loop."
      ]
    },
    {
      "cell_type": "markdown",
      "metadata": {
        "id": "PAOOqnyOElBH"
      },
      "source": [
        "### 🚄 Run the Training Loop\n",
        "\n",
        "Now we have all the pieces to train our neural network! Let's put it all together in a training loop:"
      ]
    },
    {
      "cell_type": "code",
      "metadata": {
        "id": "sBcxVSYhElBH"
      },
      "source": [
        "num_epochs = 10\n",
        "batch_size = 128\n",
        "learning_rate = 0.01\n",
        "\n",
        "params = initial_params # Start with initial parameters\n",
        "train_losses = [] # To keep track of training loss over epochs\n",
        "val_accuracies = [] # To keep track of validation accuracy over epochs\n",
        "\n",
        "for epoch in range(num_epochs):\n",
        "    start_time = time.time() # Track epoch time\n",
        "    num_train_batches = X_train.shape[0] // batch_size\n",
        "    epoch_loss = [] # Store loss for each batch in an epoch\n",
        "\n",
        "    # Iterate through training batches\n",
        "    for batch_idx in range(num_train_batches):\n",
        "        batch_start = batch_idx * batch_size\n",
        "        batch_end = batch_start + batch_size\n",
        "        x_batch = X_train[batch_start:batch_end]\n",
        "        y_batch = y_train[batch_start:batch_end]\n",
        "\n",
        "        loss_val, params = train_step_jitted( # Call JIT-compiled train step\n",
        "            params, x_batch, y_batch, learning_rate\n",
        "        )\n",
        "        epoch_loss.append(loss_val) # Store batch loss\n",
        "\n",
        "    # Calculate average loss over batches for the epoch\n",
        "    train_loss_epoch = jnp.mean(jnp.array(epoch_loss))\n",
        "    train_losses.append(train_loss_epoch) # Store epoch loss\n",
        "\n",
        "    # Calculate validation accuracy at the end of each epoch\n",
        "    val_accuracy = accuracy(params, X_test, y_test)\n",
        "    val_accuracies.append(val_accuracy)\n",
        "\n",
        "    epoch_time = time.time() - start_time # Epoch duration\n",
        "    print(f\"Epoch {epoch+1}/{num_epochs} | Loss: {train_loss_epoch:.4f} | Val Acc: {val_accuracy:.4f} | Time: {epoch_time:.2f}s\")\n",
        "\n",
        "# --- Plotting --- #\n",
        "\n",
        "# Plotting training loss curve\n",
        "plt.figure(figsize=(10, 4))\n",
        "plt.plot(train_losses)\n",
        "plt.xlabel(\"Epochs\")\n",
        "plt.ylabel(\"Training Loss\")\n",
        "plt.title(\"Training Loss Curve\")\n",
        "plt.grid(True)\n",
        "plt.show()\n",
        "\n",
        "# Plotting validation accuracy curve\n",
        "plt.figure(figsize=(10, 4))\n",
        "plt.plot(val_accuracies)\n",
        "plt.xlabel(\"Epochs\")\n",
        "plt.ylabel(\"Validation Accuracy\")\n",
        "plt.title(\"Validation Accuracy Curve\")\n",
        "plt.grid(True)\n",
        "plt.show()"
      ],
      "execution_count": null,
      "outputs": []
    },
    {
      "cell_type": "markdown",
      "metadata": {
        "id": "JoLc1aUqElBH"
      },
      "source": [
        "**Explanation:**\n",
        "\n",
        "*   **Hyperparameters:** We set hyperparameters like `num_epochs`, `batch_size`, and `learning_rate`.\n",
        "*   **Initialization:** We start with our `initial_params`.\n",
        "*   **Epoch Loop:** The outer loop iterates through the training epochs.\n",
        "    *   **Batch Iteration:** The inner loop iterates through the training data in batches (mini-batch gradient descent).\n",
        "    *   **`train_step_jitted(...)`**: We call our JIT-compiled `train_step` function to compute the loss and gradients and update parameters for each batch.\n",
        "    *   **Loss and Accuracy Tracking:** We keep track of the training loss and validation accuracy after each epoch for plotting.\n",
        "*   **Plotting:** After training, we plot the training loss and validation accuracy curves to visualize the training progress."
      ]
    },
    {
      "cell_type": "markdown",
      "metadata": {
        "id": "RIm-OI5PElBH"
      },
      "source": [
        "### 🎯 Congrats! You've Trained a Neural Network in JAX!\n",
        "\n",
        "You've successfully built and trained a simple neural network for multi-class classification using JAX and Flax! This notebook covered a lot of ground:\n",
        "\n",
        "*   Understanding JAX's core primitives (`jit`, `grad`, `vmap`)\n",
        "*   Building a neural network with Flax Linen\n",
        "*   Implementing loss and accuracy metrics\n",
        "*   Writing a training loop with gradient descent\n",
        "\n",
        "This is a significant step in your JAX and ML journey. In the next practicals, we'll build upon these fundamentals and explore more advanced deep learning models and techniques."
      ]
    },
    {
      "cell_type": "markdown",
      "source": [],
      "metadata": {
        "id": "zUtItEC1TMa0"
      }
    },
    {
      "cell_type": "markdown",
      "metadata": {
        "id": "NewSection-Optax"
      },
      "source": [
        "## 2.5 **[Extra] Introducing Optax: Gradient Processing and Optimization in JAX** (10 minutes) ⏰\n",
        "\n",
        "So far, we've used basic gradient descent to update our model parameters. But in modern machine learning, we often need more sophisticated optimization algorithms like Adam or Momentum to train models effectively and efficiently. Enter **Optax**, a powerful library built for JAX that provides gradient processing and optimization tools!\n",
        "\n",
        "**What is Optax?**\n",
        "\n",
        "Optax is a gradient processing and optimization library designed to work seamlessly with JAX. It offers:\n",
        "\n",
        "*   🛠️ **Flexible Optimizers:** A variety of optimization algorithms like SGD (Stochastic Gradient Descent), Adam, RMSprop, and more, with customizable parameters.\n",
        "*   🔄 **Gradient Transformations:** Tools to manipulate gradients (e.g., clipping, scaling) before applying updates.\n",
        "*   🌟 **Composability:** The ability to chain multiple transformations together (e.g., combining gradient clipping with an optimizer).\n",
        "*   ⚡ **JAX Compatibility:** Fully integrates with JAX's functional programming model and JIT compilation for high performance.\n",
        "\n",
        "In this section, we'll modify our training loop to use Optax's Adam optimizer instead of plain gradient descent, giving our neural network a boost in training efficiency!"
      ]
    },
    {
      "cell_type": "markdown",
      "metadata": {
        "id": "Optax-Why"
      },
      "source": [
        "### Why Use Optax?\n",
        "\n",
        "While our basic gradient descent implementation works, it has limitations:\n",
        "\n",
        "*   **Fixed Step Size:** Gradient descent uses a constant learning rate, which can lead to slow convergence or overshooting.\n",
        "*   **No Momentum:** It doesn’t account for the history of gradients, potentially causing inefficient updates.\n",
        "\n",
        "Optax optimizers like Adam adapt the learning rate for each parameter based on past gradients, often leading to faster and more stable training. Let’s see how to integrate Optax into our workflow."
      ]
    },
    {
      "cell_type": "markdown",
      "metadata": {
        "id": "Optax-Install"
      },
      "source": [
        "### Installing Optax\n",
        "\n",
        "First, ensure Optax is installed in your Colab environment. Run the following cell to install it if needed:"
      ]
    },
    {
      "cell_type": "code",
      "metadata": {
        "id": "Optax-Install-Code"
      },
      "source": [
        "!pip install optax\n",
        "import optax"
      ],
      "execution_count": null,
      "outputs": []
    },
    {
      "cell_type": "markdown",
      "metadata": {
        "id": "Optax-Example"
      },
      "source": [
        "### Using Optax with Our Neural Network\n",
        "\n",
        "Let’s update our training step to use Optax’s Adam optimizer instead of basic gradient descent. We'll integrate it into the `train_step` function we defined earlier."
      ]
    },
    {
      "cell_type": "code",
      "metadata": {
        "id": "Optax-Train-Step"
      },
      "source": [
        "import jax\n",
        "import jax.numpy as jnp\n",
        "import optax\n",
        "\n",
        "# Define the updated training step with Optax\n",
        "def train_step_optax(params, opt_state, x_batch, y_batch, optimizer):\n",
        "    \"\"\"Performs one training step using an Optax optimizer.\n",
        "\n",
        "    Args:\n",
        "        params: Model parameters.\n",
        "        opt_state: Optimizer state (e.g., momentum, moving averages).\n",
        "        x_batch: Input batch.\n",
        "        y_batch: Target batch.\n",
        "        optimizer: Optax optimizer instance.\n",
        "\n",
        "    Returns:\n",
        "        loss_val: Loss value for the batch.\n",
        "        params_updated: Updated model parameters.\n",
        "        opt_state_updated: Updated optimizer state.\n",
        "    \"\"\"\n",
        "    # Compute loss and gradients\n",
        "    loss_val, grads = jax.value_and_grad(cross_entropy_loss)(params, x_batch, y_batch)\n",
        "    # Compute parameter updates using the optimizer\n",
        "    updates, opt_state_updated = optimizer.update(grads, opt_state, params)\n",
        "    # Apply updates to parameters\n",
        "    params_updated = optax.apply_updates(params, updates)\n",
        "    return loss_val, params_updated, opt_state_updated\n",
        "\n",
        "# JIT-compile the training step for speed\n",
        "train_step_optax_jitted = jax.jit(train_step_optax)"
      ],
      "execution_count": null,
      "outputs": []
    },
    {
      "cell_type": "markdown",
      "metadata": {
        "id": "Optax-Train-Step-Explain"
      },
      "source": [
        "**Explanation:**\n",
        "\n",
        "*   **`train_step_optax`**: This updated function now takes an `opt_state` (optimizer state) and an `optimizer` instance as arguments, in addition to the previous inputs.\n",
        "    *   **`loss_val, grads = jax.value_and_grad(...)`**: Same as before, we compute the loss and gradients of the loss with respect to the parameters.\n",
        "    *   **`updates, opt_state_updated = optimizer.update(...)`**: The Optax optimizer computes the updates to the parameters based on the gradients and its internal state (e.g., moving averages in Adam). It also returns the updated optimizer state.\n",
        "    *   **`params_updated = optax.apply_updates(...)`**: Apply the computed updates to the parameters to get the new parameter values.\n",
        "    *   **Returns**: We return the loss, updated parameters, and updated optimizer state.\n",
        "*   **`train_step_optax_jitted = jax.jit(...)`**: We JIT-compile this function for performance gains, just like before."
      ]
    },
    {
      "cell_type": "markdown",
      "metadata": {
        "id": "Optax-Train-Loop"
      },
      "source": [
        "### Update the Training Loop with Optax\n",
        "\n",
        "Now let's modify our training loop to use the Optax-based training step. We'll initialize an Adam optimizer and manage its state during training."
      ]
    },
    {
      "cell_type": "code",
      "metadata": {
        "id": "Optax-Train-Loop-Code"
      },
      "source": [
        "import matplotlib.pyplot as plt\n",
        "import time\n",
        "\n",
        "# Hyperparameters\n",
        "num_epochs = 10\n",
        "batch_size = 128\n",
        "learning_rate = 0.001  # Adjusted for Adam (typically smaller than basic GD)\n",
        "\n",
        "# Initialize the optimizer (Adam)\n",
        "optimizer = optax.adam(learning_rate=learning_rate)\n",
        "opt_state = optimizer.init(initial_params)  # Initialize optimizer state with initial parameters\n",
        "\n",
        "# Training loop with Optax\n",
        "params = initial_params  # Start with initial parameters\n",
        "train_losses = []\n",
        "val_accuracies = []\n",
        "\n",
        "for epoch in range(num_epochs):\n",
        "    start_time = time.time()\n",
        "    num_train_batches = X_train.shape[0] // batch_size\n",
        "    epoch_loss = []\n",
        "\n",
        "    # Iterate through training batches\n",
        "    for batch_idx in range(num_train_batches):\n",
        "        batch_start = batch_idx * batch_size\n",
        "        batch_end = batch_start + batch_size\n",
        "        x_batch = X_train[batch_start:batch_end]\n",
        "        y_batch = y_train[batch_start:batch_end]\n",
        "\n",
        "        # Perform training step with Optax\n",
        "        loss_val, params, opt_state = train_step_optax_jitted(\n",
        "            params, opt_state, x_batch, y_batch, optimizer\n",
        "        )\n",
        "        epoch_loss.append(loss_val)\n",
        "\n",
        "    # Calculate average loss for the epoch\n",
        "    train_loss_epoch = jnp.mean(jnp.array(epoch_loss))\n",
        "    train_losses.append(train_loss_epoch)\n",
        "\n",
        "    # Calculate validation accuracy\n",
        "    val_accuracy = accuracy(params, X_test, y_test)\n",
        "    val_accuracies.append(val_accuracy)\n",
        "\n",
        "    epoch_time = time.time() - start_time\n",
        "    print(f\"Epoch {epoch+1}/{num_epochs} | Loss: {train_loss_epoch:.4f} | Val Acc: {val_accuracy:.4f} | Time: {epoch_time:.2f}s\")\n",
        "\n",
        "# Plot training loss\n",
        "plt.figure(figsize=(10, 4))\n",
        "plt.plot(train_losses)\n",
        "plt.xlabel(\"Epochs\")\n",
        "plt.ylabel(\"Training Loss\")\n",
        "plt.title(\"Training Loss Curve with Optax (Adam)\")\n",
        "plt.grid(True)\n",
        "plt.show()\n",
        "\n",
        "# Plot validation accuracy\n",
        "plt.figure(figsize=(10, 4))\n",
        "plt.plot(val_accuracies)\n",
        "plt.xlabel(\"Epochs\")\n",
        "plt.ylabel(\"Validation Accuracy\")\n",
        "plt.title(\"Validation Accuracy Curve with Optax (Adam)\")\n",
        "plt.grid(True)\n",
        "plt.show()"
      ],
      "execution_count": null,
      "outputs": []
    },
    {
      "cell_type": "markdown",
      "metadata": {
        "id": "Optax-Train-Loop-Explain"
      },
      "source": [
        "**Explanation:**\n",
        "\n",
        "*   **`optimizer = optax.adam(learning_rate=learning_rate)`**: We create an Adam optimizer with a specified learning rate (typically smaller than basic gradient descent, e.g., 0.001).\n",
        "*   **`opt_state = optimizer.init(initial_params)`**: Initialize the optimizer’s state (e.g., first and second moment estimates for Adam) based on the initial parameters.\n",
        "*   **Training Loop Changes**:\n",
        "    *   We now pass `opt_state` and `optimizer` to `train_step_optax_jitted`.\n",
        "    *   The function returns the updated `opt_state`, which we reuse in the next iteration to maintain the optimizer’s internal statistics (e.g., momentum).\n",
        "*   **Performance**: Adam often converges faster and more reliably than basic gradient descent, especially for neural networks, due to its adaptive learning rates.\n",
        "\n",
        "**Key Differences from Basic GD:**\n",
        "\n",
        "- Instead of manually subtracting `learning_rate * grads` from parameters, Optax handles the update logic, incorporating momentum and adaptive learning rates.\n",
        "- We manage an additional `opt_state` object, which tracks optimizer-specific variables."
      ]
    },
    {
      "cell_type": "markdown",
      "metadata": {
        "id": "Optax-Benefits"
      },
      "source": [
        "### Benefits of Optax\n",
        "\n",
        "*   **Improved Convergence:** Adaptive optimizers like Adam typically converge faster and more stably than basic gradient descent.\n",
        "*   **Ease of Use:** Switching to a different optimizer (e.g., RMSprop, SGD with momentum) is as simple as changing `optax.adam` to another Optax function.\n",
        "*   **Customization:** You can chain transformations like gradient clipping (`optax.clip`) or learning rate schedules with minimal code changes.\n",
        "\n",
        "**Try It Out!** Experiment with different Optax optimizers (e.g., `optax.sgd`, `optax.rmsprop`) or tweak the learning rate to see how they affect training performance."
      ]
    },
    {
      "cell_type": "markdown",
      "metadata": {
        "id": "Optax-Conclusion"
      },
      "source": [
        "### 🚀 Wrapping Up\n",
        "\n",
        "With Optax, you’ve upgraded your JAX training pipeline to use state-of-the-art optimization techniques! This section introduced:\n",
        "\n",
        "*   The motivation behind Optax and its role in JAX.\n",
        "*   How to integrate an Optax optimizer into a neural network training loop.\n",
        "*   The practical benefits of using adaptive optimizers over basic gradient descent.\n",
        "\n",
        "You’re now equipped to explore more advanced optimization strategies in your ML experiments with JAX and Optax!"
      ]
    }
  ],
  "metadata": {
    "celltoolbar": "scrolled",
    "colab": {
      "provenance": [],
      "collapsed_sections": [
        "n33h9NE9-BkY"
      ],
      "toc_visible": true,
      "gpuType": "T4"
    },
    "kernelspec": {
      "display_name": "Python 3",
      "name": "python3"
    },
    "language_info": {
      "codemirror_mode": {
        "name": "ipython",
        "version": 3
      },
      "file_extension": ".py",
      "mimetype": "text/x-python",
      "name": "python",
      "nbconvert_exporter": "python",
      "pygments_lexer": "ipython3",
      "version": "3.8.10"
    },
    "toc": true,
    "accelerator": "GPU"
  },
  "nbformat": 4,
  "nbformat_minor": 0
}
